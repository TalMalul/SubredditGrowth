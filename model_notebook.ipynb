{
 "cells": [
  {
   "cell_type": "code",
   "execution_count": 313,
   "id": "4335374b-a44c-4ca8-87d4-47b70c1a6d6c",
   "metadata": {},
   "outputs": [],
   "source": [
    "import praw\n",
    "import pandas as pd\n",
    "import datetime\n",
    "import time\n",
    "from bs4 import BeautifulSoup\n",
    "import requests\n",
    "import json\n",
    "from tqdm import tqdm\n",
    "import matplotlib.pyplot as plt\n",
    "import numpy as np\n",
    "import plotly.express as px\n",
    "from itertools import islice\n",
    "from sklearn.metrics import mean_squared_error\n",
    "from catboost import CatBoostRegressor\n",
    "import plotly.graph_objects as go"
   ]
  },
  {
   "cell_type": "code",
   "execution_count": 2,
   "id": "96a8bdeb-2325-4af6-b13d-8f0fd16a2750",
   "metadata": {},
   "outputs": [],
   "source": [
    "\n",
    "class SubredditStats:\n",
    "    def __init__(self, name, data = None):\n",
    "        self._name = name\n",
    "        self._url = 'https://subredditstats.com/r/{}'.format(self._name)\n",
    "        if data is None:\n",
    "          self._data = self._query(self._url)\n",
    "        else:\n",
    "          self._data = data\n",
    "\n",
    "    def _query(self, url):\n",
    "        req = requests.get(url)\n",
    "        soup = BeautifulSoup(req.content, 'html.parser')\n",
    "        return json.loads(soup.find('script', {'id': 'embeddedSubredditData'}).text)\n",
    "\n",
    "\n",
    "    def _time_series(self, series_type, value_name):\n",
    "        day_to_sec = lambda day: day * 24 * 60 * 60\n",
    "        sorted_values = list(sorted(self._data[series_type], key=lambda d: int(d['utcDay'])))\n",
    "        sorted_seconds = [{'utcDay': day_to_sec(d['utcDay']), 'count': d[value_name]} for d in sorted_values]\n",
    "        return sorted_seconds\n",
    "\n",
    "    def avg_subsribers_per_day(self):\n",
    "        spd = self.subscriber_count_time_series()\n",
    "        return (spd[-1]['count'] - spd[0]['count']) / (spd[-1]['utcDay'] / 24 / 60 / 60 - spd[0]['utcDay'] / 24 / 60 / 60)\n",
    "\n",
    "    def avg_posts_per_day(self):\n",
    "        ppd = self.posts_per_day_time_series()\n",
    "        return (ppd[-1]['count'] - ppd[0]['count']) / (ppd[-1]['utcDay'] / 24 / 60 / 60 - ppd[0]['utcDay'] / 24 / 60 / 60)\n",
    "\n",
    "\n",
    "    @property\n",
    "    def name(self):\n",
    "        return self._name\n",
    "\n",
    "    def subscriber_count_time_series(self):\n",
    "        return self._time_series('subscriberCountTimeSeries', 'count')\n",
    "\n",
    "    def posts_per_day_time_series(self):\n",
    "        return self._time_series('postsPerHourTimeSeries', 'postsPerHour')\n",
    "\n",
    "    def comments_per_day_rank_time_series(self):\n",
    "        return self._time_series('commentsPerHourRankTimeSeries', 'rank')\n",
    "\n",
    "    def comments_per_day_time_series(self):\n",
    "        return self._time_series('commentsPerHourTimeSeries', 'commentsPerHour')\n",
    "\n",
    "    def n_subscribers(self):\n",
    "        return self._data['subscriberCount']\n",
    "\n",
    "    def subscribers_rank(self):\n",
    "        return self._data['subscriberCountRank']\n",
    "\n",
    "    def posts_per_subscriber(self):\n",
    "        return self._data['postsPerSubscriber']\n",
    "\n",
    "    def posts_per_hour(self):\n",
    "        return self._data['postsPerHour']\n",
    "\n",
    "    def posts_per_hour_rank(self):\n",
    "        return self._data['postsPerHourRank']\n",
    "\n",
    "    def mentions_per_day(self):\n",
    "        return self._data['mentionsPerDay']\n",
    "\n",
    "    def mentions_per_day_rank(self):\n",
    "        return self._data['mentionsPerDayRank']\n",
    "\n",
    "    def creation_time(self):\n",
    "        return self._data['creationTime']\n",
    "\n",
    "    def description(self):\n",
    "        return self._data['description']\n",
    "\n",
    "    def comments_per_subscriber(self):\n",
    "        return self._data['commentsPerSubscriber']\n",
    "\n",
    "    def comments_per_subscriber_rank(self):\n",
    "        return self._data['commentsPerSubscriberRanked']\n",
    "\n",
    "    def comments_per_hour(self):\n",
    "        return self._data['commentsPerHour']\n",
    "\n",
    "    def comments_per_hour_rank(self):\n",
    "        return self._data['commentsPerHourRank']\n",
    "\n",
    "    def top_commenters_by_frequency(self):\n",
    "        return self._data['topCommentersByFrequency']\n",
    "\n",
    "    def top_commenters_by_score_sum(self):\n",
    "        return self._data['topCommentersByScoreSum']\n",
    "\n",
    "    def top_keywords(self):\n",
    "        return self._data['topKeywords']\n",
    "\n",
    "    def top_linked_domains(self):\n",
    "        return self._data['topLinkedDomains']\n",
    "\n",
    "    def top_posters_by_frequency(self):\n",
    "        return self._data['topPostersByFrequency']\n",
    "\n",
    "    def top_posters_by_score_sum(self):\n",
    "        return self._data['topPostersByScoreSum']\n",
    "\n",
    "    def top_posts_comments_sum(self):\n",
    "        return self._data['topPostsCommentsSum']\n",
    "\n",
    "    def top_posts_comments_sum_rank(self):\n",
    "        return self._data['topPostsCommentsSumRank']\n",
    "\n",
    "    def top_posts_gilded_sum(self):\n",
    "        return self._data['topPostsGildedSum']\n",
    "\n",
    "    def top_posts_gilded_sum_rank(self):\n",
    "        return self._data['topPostsGildedSumRank']\n",
    "\n",
    "    def top_posts_score_sum(self):\n",
    "        return self._data['topPostsScoreSum']\n",
    "\n",
    "    def top_posts_score_sum_rank(self):\n",
    "        return self._data['topPostsScoreSumRank']\n",
    "\n",
    "    def comments_per_subscriber_rank(self):\n",
    "        return self._data['commentsPerSubscriberRank']\n",
    "\n",
    "    def posts_per_subscriber_rank(self):\n",
    "        return self._data['postsPerSubscriberRank']\n",
    "\n",
    "    def gilds_per_subscriber(self):\n",
    "        return self._data['gildsPerSubscriber']\n",
    "\n",
    "    def gilds_per_subscriber_rank(self):\n",
    "        return self._data['gildsPerSubscriberRank']\n",
    "\n",
    "    def subreddit_id(self):\n",
    "        return self._data['subredditId']\n",
    "\n",
    "    def quarantined(self):\n",
    "        return self._data['quarantined']\n",
    "\n",
    "    def is_active_subreddit(self):\n",
    "        return self._data['isActiveSubreddit']\n",
    "\n"
   ]
  },
  {
   "cell_type": "code",
   "execution_count": 4,
   "id": "8fb98d7a-045f-47d2-8584-1b3ffb7c1546",
   "metadata": {},
   "outputs": [
    {
     "name": "stderr",
     "output_type": "stream",
     "text": [
      "100%|██████████| 1074/1074 [00:00<00:00, 336245.61it/s]\n"
     ]
    }
   ],
   "source": [
    "subreddits_stats = {}\n",
    "with open('output/data.json', 'r') as json_file:\n",
    "  json_data = json.load(json_file)\n",
    "  for item in tqdm(json_data):\n",
    "    subreddit_name = item['subreddit_name']\n",
    "    subreddit_data = item['data']\n",
    "    subreddits_stats[subreddit_name] = SubredditStats(subreddit_name, subreddit_data)"
   ]
  },
  {
   "cell_type": "code",
   "execution_count": 5,
   "id": "ef26e940-18f9-4642-a900-1ac0235c8bcd",
   "metadata": {},
   "outputs": [],
   "source": [
    "\n",
    "def posts_per_day(reddit_stat):\n",
    "    ppd = reddit_stat.posts_per_day_time_series()\n",
    "    days = {}\n",
    "    for post_day in ppd:\n",
    "        day = int(post_day['utcDay'] / 24 / 60 / 60)\n",
    "        days[day] = post_day['count']\n",
    "    return days\n",
    "\n",
    "def subsribers_per_day(reddit_stat):\n",
    "    ppd = reddit_stat.subscriber_count_time_series()\n",
    "    days = {}\n",
    "    for post_day in ppd:\n",
    "        day = int(post_day['utcDay'] / 24 / 60 / 60)\n",
    "        days[day] = post_day['count']\n",
    "    return days\n",
    "\n",
    "def comments_per_day(reddit_stat):\n",
    "    cpd = reddit_stat.comments_per_day_time_series()\n",
    "    days = {}\n",
    "    for post_day in cpd:\n",
    "        day = int(post_day['utcDay'] / 24 / 60 / 60)\n",
    "        days[day] = post_day['count']\n",
    "    return days\n",
    "\n",
    "def growth_per_day(reddit_stat):\n",
    "    ppd = reddit_stat.subscriber_count_time_series()\n",
    "    days = {}\n",
    "    for index, post_day in enumerate(ppd):\n",
    "        today_day = int(post_day['utcDay'] / 24 / 60 / 60)\n",
    "        today_count = post_day['count']\n",
    "        if index == 0:\n",
    "            days[today_day] = 0\n",
    "            continue\n",
    "        prev_day = int(ppd[index - 1]['utcDay'] / 24 / 60 / 60)\n",
    "        prev_day_count = ppd[index - 1]['count']\n",
    "        if today_day - prev_day == 0 or prev_day_count == 0:\n",
    "            continue\n",
    "            \n",
    "        growth = ((today_count - prev_day_count) / prev_day_count) / (today_day - prev_day)\n",
    "        days[today_day] = growth\n",
    "    return days\n",
    "\n",
    "def wighted_growth_per_day(reddit_stat, factor):\n",
    "    ppd = reddit_stat.subscriber_count_time_series()\n",
    "    days = {}\n",
    "    for index, post_day in enumerate(ppd):\n",
    "        today_day = int(post_day['utcDay'] / 24 / 60 / 60)\n",
    "        today_count = post_day['count']\n",
    "        if index == 0:\n",
    "            days[today_day] = 0\n",
    "            continue\n",
    "        prev_day = int(ppd[index - 1]['utcDay'] / 24 / 60 / 60)\n",
    "        prev_day_count = ppd[index - 1]['count']\n",
    "        if today_day - prev_day == 0 or prev_day_count == 0:\n",
    "            continue            \n",
    "        growth = (((today_count - prev_day_count) / prev_day_count) / (today_day - prev_day)) * (factor ** (index + 1))\n",
    "        days[today_day] = growth\n",
    "    return days\n",
    "\n",
    "def posts_per_week(reddit_stat):\n",
    "    weeks = {}\n",
    "    days = posts_per_day(reddit_stat)\n",
    "    for day in days:\n",
    "        week = int(day / 7)\n",
    "        if week not in weeks:\n",
    "            weeks[week] = 0\n",
    "        weeks[week] += days[day]\n",
    "    return weeks\n",
    "\n",
    "def subsribers_per_week(reddit_stat):\n",
    "    weeks = {}\n",
    "    days = subsribers_per_day(reddit_stat)\n",
    "    for day in days:\n",
    "        week = int(day / 7)\n",
    "        weeks[week] = days[day]\n",
    "    return weeks\n",
    "\n",
    "def comments_per_week(reddit_stat):\n",
    "    weeks = {}\n",
    "    days = comments_per_day(reddit_stat)\n",
    "    for day in days:\n",
    "        week = int(day / 7)\n",
    "        if week not in weeks:\n",
    "            weeks[week] = 0\n",
    "        weeks[week] += days[day]\n",
    "    return weeks\n",
    "\n",
    "def growth_per_week(reddit_stat):\n",
    "    weeks = {}\n",
    "    days = growth_per_day(reddit_stat)\n",
    "    for day in days:\n",
    "        week = int(day / 7)\n",
    "        if week not in weeks:\n",
    "            weeks[week] = 0\n",
    "        weeks[week] += days[day]\n",
    "    return weeks\n",
    "\n",
    "\n",
    "\n",
    "def sliding_window_overlap(arr, window_size, overlap):\n",
    "    return [list(islice(arr, i, i + window_size)) for i in range(0, len(arr) - window_size + 1, window_size - overlap)]\n",
    "\n",
    "def has_equal_differences(arr, difference):\n",
    "    differences = [arr[i+1] - arr[i] for i in range(len(arr)-1)]\n",
    "    return all(diff == difference for diff in differences)\n",
    "\n"
   ]
  },
  {
   "cell_type": "code",
   "execution_count": 35,
   "id": "2c2781b7-843b-4771-9042-4e0ed9209a84",
   "metadata": {},
   "outputs": [
    {
     "data": {
      "application/vnd.plotly.v1+json": {
       "config": {
        "plotlyServerURL": "https://plot.ly"
       },
       "data": [
        {
         "histnorm": "percent",
         "type": "histogram",
         "y": [
          2429910,
          1081817,
          1993833,
          3772455,
          704351,
          1059141,
          2880205,
          1433483,
          4587247,
          1613104,
          480772,
          251348,
          249890,
          875060,
          125880,
          701946,
          683943,
          721747,
          2535969,
          690842,
          1626222,
          20375796,
          1897447,
          721994,
          171160,
          758370,
          115472,
          164668,
          104534,
          239716,
          3288273,
          586200,
          232233,
          1487744,
          6366305,
          1346651,
          517991,
          255622,
          404970,
          600422,
          146623,
          169497,
          385502,
          2067922,
          205208,
          631906,
          256603,
          291730,
          292021,
          6221717,
          296476,
          247152,
          610768,
          893751,
          3289600,
          2597529,
          204483,
          2190899,
          2267052,
          64545,
          270642,
          1391471,
          2215665,
          86652,
          788949,
          2762614,
          45003,
          119823,
          1225996,
          231217,
          224569,
          1217742,
          345712,
          4110197,
          1114499,
          2250399,
          901515,
          1906725,
          4762122,
          100006,
          1119404,
          1015782,
          984010,
          255331,
          307964,
          2258429,
          1510153,
          909025,
          81751,
          354396,
          2762614,
          4272674,
          147433,
          159010,
          407828,
          181856,
          2862240,
          1300663,
          570245,
          1114968,
          180783,
          17141888,
          1840922,
          361371,
          446631,
          534110,
          182926,
          1141373,
          1088380,
          97028,
          1543103,
          1245093,
          704978,
          976374,
          241291,
          3192733,
          10385036,
          887647,
          14268558,
          1391495,
          418855,
          17707340,
          307179,
          159760,
          1757377,
          177790,
          1056940,
          135173,
          608061,
          1161085,
          644812,
          247080,
          198597,
          289987,
          155201,
          984122,
          913176,
          64396,
          3823660,
          103217,
          892782,
          217735,
          589879,
          1363227,
          137417,
          263682,
          423202,
          2112204,
          297266,
          86337,
          336111,
          4007651,
          1781710,
          409572,
          6051209,
          1520415,
          908082,
          237629,
          734788,
          2134015,
          1712679,
          642372,
          1688838,
          1515599,
          713544,
          269933,
          1166071,
          256411,
          178847,
          277674,
          1268969,
          166362,
          366846,
          229091,
          330273,
          16594676,
          2465928,
          113747,
          620192,
          947899,
          223493,
          104883,
          2614318,
          3278238,
          232130,
          847901,
          1144,
          3214077,
          242974,
          164808,
          204950,
          814507,
          421506,
          4476763,
          18006109,
          17458065,
          232211,
          321749,
          237608,
          5335983,
          469362,
          2030919,
          329812,
          6420507,
          1169816,
          325492,
          357744,
          605933,
          148989,
          1206859,
          1156635,
          626452,
          2057206,
          335103,
          1339595,
          1843337,
          309282,
          399774,
          407828,
          951259,
          648564,
          3214077,
          371192,
          2561074,
          120188,
          1455030,
          271766,
          158305,
          1260120,
          2261733,
          459737,
          687036,
          1145232,
          780448,
          513054,
          1001749,
          771373,
          1130586,
          1753545,
          1126356,
          16970485,
          3668702,
          1860710,
          266978,
          427178,
          110377,
          509684,
          313384,
          624917,
          1151933,
          1458118,
          1083345,
          881522,
          160752,
          585143,
          3308504,
          222894,
          195863,
          328754,
          196686,
          1328606,
          310272,
          250524,
          103302,
          604560,
          1441672,
          3323407,
          379949,
          533787,
          373399,
          281687,
          909698,
          998735,
          435152,
          53380,
          1860021,
          331169,
          531706,
          204713,
          725411,
          161907,
          390564,
          22377633,
          166855,
          362874,
          507555,
          183956,
          2038749,
          2744128,
          3068712,
          2970418,
          1103835,
          294826,
          64317,
          324210,
          3024232,
          4120908,
          11392004,
          1481031,
          394325,
          892072,
          689663,
          2109762,
          4043210,
          356363,
          11284154,
          1176295,
          139726,
          992291,
          226104,
          649341,
          464515,
          856442,
          11101094,
          1516508,
          103472,
          2878270,
          154397,
          516190,
          368581,
          5592745,
          741686,
          4090228,
          6908739,
          550181,
          386581,
          3239725,
          2995528,
          809174,
          1536940,
          203395,
          203509,
          231657,
          174051,
          268698,
          274379,
          262906,
          979970,
          84910,
          3387413,
          2269642,
          1595097,
          337646,
          309523,
          74959,
          210979,
          677947,
          640610,
          465575,
          453480,
          286004,
          1030086,
          752328,
          135213,
          858192,
          198495,
          305325,
          2477798,
          1876052,
          180898,
          1128449,
          840627,
          245961,
          1610501,
          777695,
          179088,
          961120,
          1372684,
          622142,
          5712334,
          956710,
          234247,
          227415,
          3210614,
          104487,
          2779150,
          1913392,
          768245,
          1467381,
          1907723,
          346607,
          17142101,
          182509,
          359842,
          218761,
          643097,
          319614,
          270084,
          111234,
          4077960,
          1527837,
          23831717,
          444745,
          241851,
          124029,
          2640831,
          908549,
          661180,
          622678,
          2602309,
          208365,
          598683,
          1102306,
          189281,
          5865570,
          363903,
          207545,
          583382,
          997699,
          548383,
          888802,
          289496,
          561868,
          175499,
          5720345,
          2376566,
          3032899,
          411157,
          756825,
          2188006,
          6366305,
          22555431,
          1858008,
          692936,
          221288,
          1147515,
          2021904,
          1822846,
          257478,
          204704,
          485996,
          3698449,
          9998285,
          328592,
          5513330,
          2213372,
          195712,
          1265428,
          16594676,
          705358,
          685542,
          636266,
          519456,
          416646,
          170761,
          485174,
          253932,
          454589,
          3990798,
          1344230,
          1189326,
          118717,
          205393,
          1129883,
          2022624,
          597569,
          7647250,
          153888,
          390460,
          372450,
          375650,
          1860259,
          159648,
          124773,
          959718,
          259212,
          153313,
          889533,
          1820794,
          743145,
          660957,
          113403,
          777200,
          680821,
          72305,
          10986256,
          246516,
          718972,
          222834,
          450216,
          3660350,
          218657,
          153381,
          172104,
          290788,
          28027282,
          349108,
          778244,
          5097,
          121051,
          167202,
          278312,
          292115,
          754719,
          1142955,
          770762,
          854958,
          1874311,
          153987,
          1114250,
          709539,
          1069333,
          663695,
          598602,
          699911,
          824775,
          238436,
          231086,
          1158144,
          495820,
          2575119,
          164842,
          1035338,
          2010727,
          396717,
          949507,
          1745188,
          292029,
          406901,
          732014,
          744680,
          155309,
          648131,
          4696,
          1998709,
          2862246,
          311014,
          84505,
          170056,
          471342,
          372944,
          1354361,
          5665063,
          4096990,
          142420,
          273886,
          489552,
          287997,
          803382,
          248738,
          66638,
          1683047,
          708828,
          23523477,
          214747,
          115072,
          320317,
          1510088,
          929372,
          191106,
          1589689,
          140460,
          926531,
          429506,
          385693,
          1706671,
          3627402,
          14833944,
          1184344,
          635267,
          489448,
          185578,
          826601,
          4871022,
          585140,
          30615328,
          3469940,
          2859139,
          646297,
          309910,
          2012390,
          166499,
          233912,
          388062,
          830306,
          21676638,
          92655,
          1039693,
          744990,
          430591,
          686171,
          294218,
          102594,
          1001641,
          463609,
          376375,
          129234,
          230081,
          2541612,
          2426910,
          3910177,
          287292,
          788419,
          22583444,
          282326,
          275178,
          469399,
          79111,
          518869,
          252626,
          511525,
          271104,
          61383,
          498847,
          670886,
          1210694,
          279998,
          133725,
          1066886,
          535101,
          297515,
          210580,
          312313,
          241183,
          4392364,
          3343875,
          321235,
          1236644,
          158970,
          398970,
          826217,
          340091,
          1700549,
          661209,
          1348732,
          117413,
          1406151,
          121056,
          797969,
          221241,
          6332504,
          762502,
          282750,
          591509,
          151232,
          2934012,
          2090949,
          548833,
          1031991,
          124816,
          254091,
          1775982,
          4884358,
          1386674,
          2350388,
          1355801,
          247551,
          21623363,
          198173,
          191780,
          1394093,
          2830041,
          201533,
          1519435,
          3104357,
          2337185,
          1445048,
          180741,
          821095,
          1308357,
          1980515,
          150380,
          1697330,
          1087679,
          187047,
          328640,
          240,
          417731,
          1658783,
          491610,
          2422015,
          602497,
          2955569,
          819401,
          259671,
          126527,
          514170,
          1150212,
          3816586,
          289487,
          1410279,
          1188737,
          279487,
          177537,
          3671175,
          84995,
          353688,
          1347568,
          384015,
          196940,
          223588,
          32715056,
          593484,
          180932,
          511955,
          2258863,
          1227819,
          324745,
          716053,
          293893,
          155873,
          430724,
          454221,
          189425,
          556178,
          1731979,
          523489,
          186756,
          380870,
          352423,
          510434,
          8069383,
          109939,
          320168,
          320563,
          697342,
          151151,
          172195,
          256691,
          3394780,
          341401,
          174240,
          924281,
          731504,
          231715,
          238802,
          194802,
          150216,
          2782396,
          186753,
          632728,
          141985,
          334120,
          684431,
          366007,
          311189,
          629903,
          177282,
          7504548,
          18464297,
          452174,
          210090,
          1050617,
          14184770,
          1223120,
          419374,
          16970485,
          911980,
          1479249,
          47659,
          187616,
          2275527,
          547567,
          191803,
          890251,
          384079,
          168027,
          4051568,
          2464475,
          448877,
          546117,
          128531,
          13628166,
          146479,
          2454001,
          200347,
          87475,
          3090656,
          1700911,
          130117,
          520845,
          3913200,
          129402,
          2760998,
          630191,
          454795,
          200932,
          1503437,
          187371,
          1210696,
          264801,
          109586,
          741626,
          1201505,
          1051121,
          136169,
          313516,
          363809,
          444946,
          2336087,
          6738328,
          1980593,
          208219,
          217416,
          458546,
          806453,
          1920727,
          231514,
          538858,
          2548213,
          324276,
          177306,
          714019,
          382954,
          2666726,
          856218,
          139801,
          729932,
          519459,
          4008206,
          453219,
          1115747,
          1672119,
          69891,
          452313,
          2124964,
          1220098,
          298012,
          4408499,
          1253289,
          162121,
          284286,
          436548,
          231697,
          3069762,
          373151,
          2171003,
          2396825,
          7449831,
          427006,
          2359042,
          291145,
          147771,
          128997,
          110471,
          1860168,
          269887,
          501213,
          2478049,
          357045,
          5126153,
          2047968,
          618081,
          260894,
          1785098,
          569701,
          123316,
          763305,
          272748,
          1523397,
          185701,
          293455,
          428231,
          1732084,
          539698,
          345283,
          516429,
          2303032,
          379403,
          299146,
          299791,
          835118,
          734775,
          861557,
          2707625,
          566944,
          322694,
          570245,
          3470791,
          127184,
          377156,
          5254479,
          1267553,
          112690,
          608223,
          4586159,
          377560,
          5164832,
          2633185,
          1136501,
          42605824,
          814193,
          1308608,
          1016756,
          982612,
          668367,
          1058913,
          1395902,
          107050,
          3371554,
          425843,
          440047,
          176252,
          480776,
          5719156,
          230325,
          142037,
          1317165,
          236429,
          1143588,
          17725003,
          674484,
          143673,
          6378198,
          163461,
          3431480,
          495655,
          866221,
          148958,
          352929,
          667334,
          369808,
          1016409,
          704755,
          104084,
          1349723,
          239201,
          199125,
          24317567,
          1801398,
          7015267,
          1244760,
          8380169,
          1698826,
          2558261,
          370552,
          1428923,
          37939502,
          403327,
          1613750,
          209335,
          1806292,
          208314,
          664974,
          26830276,
          20812959,
          753136,
          698745,
          567395,
          97645,
          326871,
          1219392,
          1141396,
          200608,
          298922,
          2229270,
          355808,
          51812,
          22308521,
          205528,
          1157235,
          515853,
          1876120,
          32495638,
          689305,
          3031178,
          258202,
          1224386,
          265796,
          726305,
          171671,
          509868,
          395557,
          223318,
          1151996,
          475262,
          31437648,
          966180,
          100559,
          2944066,
          458828,
          177099,
          459426,
          315875,
          158314,
          772983,
          261163,
          5499400,
          173784,
          1509603,
          3848379,
          1957952,
          436124,
          1079577,
          1558881,
          1082533,
          451911,
          282177,
          381481,
          1279163,
          4987386,
          427137,
          301463,
          156086,
          3227435,
          744688,
          743145,
          944450,
          949579,
          3174658,
          1867308
         ]
        }
       ],
       "layout": {
        "height": 600,
        "paper_bgcolor": "rgba(0, 0, 0, 0)",
        "template": {
         "data": {
          "bar": [
           {
            "error_x": {
             "color": "rgb(36,36,36)"
            },
            "error_y": {
             "color": "rgb(36,36,36)"
            },
            "marker": {
             "line": {
              "color": "rgb(234,234,242)",
              "width": 0.5
             },
             "pattern": {
              "fillmode": "overlay",
              "size": 10,
              "solidity": 0.2
             }
            },
            "type": "bar"
           }
          ],
          "barpolar": [
           {
            "marker": {
             "line": {
              "color": "rgb(234,234,242)",
              "width": 0.5
             },
             "pattern": {
              "fillmode": "overlay",
              "size": 10,
              "solidity": 0.2
             }
            },
            "type": "barpolar"
           }
          ],
          "carpet": [
           {
            "aaxis": {
             "endlinecolor": "rgb(36,36,36)",
             "gridcolor": "white",
             "linecolor": "white",
             "minorgridcolor": "white",
             "startlinecolor": "rgb(36,36,36)"
            },
            "baxis": {
             "endlinecolor": "rgb(36,36,36)",
             "gridcolor": "white",
             "linecolor": "white",
             "minorgridcolor": "white",
             "startlinecolor": "rgb(36,36,36)"
            },
            "type": "carpet"
           }
          ],
          "choropleth": [
           {
            "colorbar": {
             "outlinewidth": 0,
             "tickcolor": "rgb(36,36,36)",
             "ticklen": 8,
             "ticks": "outside",
             "tickwidth": 2
            },
            "type": "choropleth"
           }
          ],
          "contour": [
           {
            "colorbar": {
             "outlinewidth": 0,
             "tickcolor": "rgb(36,36,36)",
             "ticklen": 8,
             "ticks": "outside",
             "tickwidth": 2
            },
            "colorscale": [
             [
              0,
              "rgb(2,4,25)"
             ],
             [
              0.06274509803921569,
              "rgb(24,15,41)"
             ],
             [
              0.12549019607843137,
              "rgb(47,23,57)"
             ],
             [
              0.18823529411764706,
              "rgb(71,28,72)"
             ],
             [
              0.25098039215686274,
              "rgb(97,30,82)"
             ],
             [
              0.3137254901960784,
              "rgb(123,30,89)"
             ],
             [
              0.3764705882352941,
              "rgb(150,27,91)"
             ],
             [
              0.4392156862745098,
              "rgb(177,22,88)"
             ],
             [
              0.5019607843137255,
              "rgb(203,26,79)"
             ],
             [
              0.5647058823529412,
              "rgb(223,47,67)"
             ],
             [
              0.6274509803921569,
              "rgb(236,76,61)"
             ],
             [
              0.6901960784313725,
              "rgb(242,107,73)"
             ],
             [
              0.7529411764705882,
              "rgb(244,135,95)"
             ],
             [
              0.8156862745098039,
              "rgb(245,162,122)"
             ],
             [
              0.8784313725490196,
              "rgb(246,188,153)"
             ],
             [
              0.9411764705882353,
              "rgb(247,212,187)"
             ],
             [
              1,
              "rgb(250,234,220)"
             ]
            ],
            "type": "contour"
           }
          ],
          "contourcarpet": [
           {
            "colorbar": {
             "outlinewidth": 0,
             "tickcolor": "rgb(36,36,36)",
             "ticklen": 8,
             "ticks": "outside",
             "tickwidth": 2
            },
            "type": "contourcarpet"
           }
          ],
          "heatmap": [
           {
            "colorbar": {
             "outlinewidth": 0,
             "tickcolor": "rgb(36,36,36)",
             "ticklen": 8,
             "ticks": "outside",
             "tickwidth": 2
            },
            "colorscale": [
             [
              0,
              "rgb(2,4,25)"
             ],
             [
              0.06274509803921569,
              "rgb(24,15,41)"
             ],
             [
              0.12549019607843137,
              "rgb(47,23,57)"
             ],
             [
              0.18823529411764706,
              "rgb(71,28,72)"
             ],
             [
              0.25098039215686274,
              "rgb(97,30,82)"
             ],
             [
              0.3137254901960784,
              "rgb(123,30,89)"
             ],
             [
              0.3764705882352941,
              "rgb(150,27,91)"
             ],
             [
              0.4392156862745098,
              "rgb(177,22,88)"
             ],
             [
              0.5019607843137255,
              "rgb(203,26,79)"
             ],
             [
              0.5647058823529412,
              "rgb(223,47,67)"
             ],
             [
              0.6274509803921569,
              "rgb(236,76,61)"
             ],
             [
              0.6901960784313725,
              "rgb(242,107,73)"
             ],
             [
              0.7529411764705882,
              "rgb(244,135,95)"
             ],
             [
              0.8156862745098039,
              "rgb(245,162,122)"
             ],
             [
              0.8784313725490196,
              "rgb(246,188,153)"
             ],
             [
              0.9411764705882353,
              "rgb(247,212,187)"
             ],
             [
              1,
              "rgb(250,234,220)"
             ]
            ],
            "type": "heatmap"
           }
          ],
          "heatmapgl": [
           {
            "colorbar": {
             "outlinewidth": 0,
             "tickcolor": "rgb(36,36,36)",
             "ticklen": 8,
             "ticks": "outside",
             "tickwidth": 2
            },
            "colorscale": [
             [
              0,
              "rgb(2,4,25)"
             ],
             [
              0.06274509803921569,
              "rgb(24,15,41)"
             ],
             [
              0.12549019607843137,
              "rgb(47,23,57)"
             ],
             [
              0.18823529411764706,
              "rgb(71,28,72)"
             ],
             [
              0.25098039215686274,
              "rgb(97,30,82)"
             ],
             [
              0.3137254901960784,
              "rgb(123,30,89)"
             ],
             [
              0.3764705882352941,
              "rgb(150,27,91)"
             ],
             [
              0.4392156862745098,
              "rgb(177,22,88)"
             ],
             [
              0.5019607843137255,
              "rgb(203,26,79)"
             ],
             [
              0.5647058823529412,
              "rgb(223,47,67)"
             ],
             [
              0.6274509803921569,
              "rgb(236,76,61)"
             ],
             [
              0.6901960784313725,
              "rgb(242,107,73)"
             ],
             [
              0.7529411764705882,
              "rgb(244,135,95)"
             ],
             [
              0.8156862745098039,
              "rgb(245,162,122)"
             ],
             [
              0.8784313725490196,
              "rgb(246,188,153)"
             ],
             [
              0.9411764705882353,
              "rgb(247,212,187)"
             ],
             [
              1,
              "rgb(250,234,220)"
             ]
            ],
            "type": "heatmapgl"
           }
          ],
          "histogram": [
           {
            "marker": {
             "pattern": {
              "fillmode": "overlay",
              "size": 10,
              "solidity": 0.2
             }
            },
            "type": "histogram"
           }
          ],
          "histogram2d": [
           {
            "colorbar": {
             "outlinewidth": 0,
             "tickcolor": "rgb(36,36,36)",
             "ticklen": 8,
             "ticks": "outside",
             "tickwidth": 2
            },
            "colorscale": [
             [
              0,
              "rgb(2,4,25)"
             ],
             [
              0.06274509803921569,
              "rgb(24,15,41)"
             ],
             [
              0.12549019607843137,
              "rgb(47,23,57)"
             ],
             [
              0.18823529411764706,
              "rgb(71,28,72)"
             ],
             [
              0.25098039215686274,
              "rgb(97,30,82)"
             ],
             [
              0.3137254901960784,
              "rgb(123,30,89)"
             ],
             [
              0.3764705882352941,
              "rgb(150,27,91)"
             ],
             [
              0.4392156862745098,
              "rgb(177,22,88)"
             ],
             [
              0.5019607843137255,
              "rgb(203,26,79)"
             ],
             [
              0.5647058823529412,
              "rgb(223,47,67)"
             ],
             [
              0.6274509803921569,
              "rgb(236,76,61)"
             ],
             [
              0.6901960784313725,
              "rgb(242,107,73)"
             ],
             [
              0.7529411764705882,
              "rgb(244,135,95)"
             ],
             [
              0.8156862745098039,
              "rgb(245,162,122)"
             ],
             [
              0.8784313725490196,
              "rgb(246,188,153)"
             ],
             [
              0.9411764705882353,
              "rgb(247,212,187)"
             ],
             [
              1,
              "rgb(250,234,220)"
             ]
            ],
            "type": "histogram2d"
           }
          ],
          "histogram2dcontour": [
           {
            "colorbar": {
             "outlinewidth": 0,
             "tickcolor": "rgb(36,36,36)",
             "ticklen": 8,
             "ticks": "outside",
             "tickwidth": 2
            },
            "colorscale": [
             [
              0,
              "rgb(2,4,25)"
             ],
             [
              0.06274509803921569,
              "rgb(24,15,41)"
             ],
             [
              0.12549019607843137,
              "rgb(47,23,57)"
             ],
             [
              0.18823529411764706,
              "rgb(71,28,72)"
             ],
             [
              0.25098039215686274,
              "rgb(97,30,82)"
             ],
             [
              0.3137254901960784,
              "rgb(123,30,89)"
             ],
             [
              0.3764705882352941,
              "rgb(150,27,91)"
             ],
             [
              0.4392156862745098,
              "rgb(177,22,88)"
             ],
             [
              0.5019607843137255,
              "rgb(203,26,79)"
             ],
             [
              0.5647058823529412,
              "rgb(223,47,67)"
             ],
             [
              0.6274509803921569,
              "rgb(236,76,61)"
             ],
             [
              0.6901960784313725,
              "rgb(242,107,73)"
             ],
             [
              0.7529411764705882,
              "rgb(244,135,95)"
             ],
             [
              0.8156862745098039,
              "rgb(245,162,122)"
             ],
             [
              0.8784313725490196,
              "rgb(246,188,153)"
             ],
             [
              0.9411764705882353,
              "rgb(247,212,187)"
             ],
             [
              1,
              "rgb(250,234,220)"
             ]
            ],
            "type": "histogram2dcontour"
           }
          ],
          "mesh3d": [
           {
            "colorbar": {
             "outlinewidth": 0,
             "tickcolor": "rgb(36,36,36)",
             "ticklen": 8,
             "ticks": "outside",
             "tickwidth": 2
            },
            "type": "mesh3d"
           }
          ],
          "parcoords": [
           {
            "line": {
             "colorbar": {
              "outlinewidth": 0,
              "tickcolor": "rgb(36,36,36)",
              "ticklen": 8,
              "ticks": "outside",
              "tickwidth": 2
             }
            },
            "type": "parcoords"
           }
          ],
          "pie": [
           {
            "automargin": true,
            "type": "pie"
           }
          ],
          "scatter": [
           {
            "fillpattern": {
             "fillmode": "overlay",
             "size": 10,
             "solidity": 0.2
            },
            "type": "scatter"
           }
          ],
          "scatter3d": [
           {
            "line": {
             "colorbar": {
              "outlinewidth": 0,
              "tickcolor": "rgb(36,36,36)",
              "ticklen": 8,
              "ticks": "outside",
              "tickwidth": 2
             }
            },
            "marker": {
             "colorbar": {
              "outlinewidth": 0,
              "tickcolor": "rgb(36,36,36)",
              "ticklen": 8,
              "ticks": "outside",
              "tickwidth": 2
             }
            },
            "type": "scatter3d"
           }
          ],
          "scattercarpet": [
           {
            "marker": {
             "colorbar": {
              "outlinewidth": 0,
              "tickcolor": "rgb(36,36,36)",
              "ticklen": 8,
              "ticks": "outside",
              "tickwidth": 2
             }
            },
            "type": "scattercarpet"
           }
          ],
          "scattergeo": [
           {
            "marker": {
             "colorbar": {
              "outlinewidth": 0,
              "tickcolor": "rgb(36,36,36)",
              "ticklen": 8,
              "ticks": "outside",
              "tickwidth": 2
             }
            },
            "type": "scattergeo"
           }
          ],
          "scattergl": [
           {
            "marker": {
             "colorbar": {
              "outlinewidth": 0,
              "tickcolor": "rgb(36,36,36)",
              "ticklen": 8,
              "ticks": "outside",
              "tickwidth": 2
             }
            },
            "type": "scattergl"
           }
          ],
          "scattermapbox": [
           {
            "marker": {
             "colorbar": {
              "outlinewidth": 0,
              "tickcolor": "rgb(36,36,36)",
              "ticklen": 8,
              "ticks": "outside",
              "tickwidth": 2
             }
            },
            "type": "scattermapbox"
           }
          ],
          "scatterpolar": [
           {
            "marker": {
             "colorbar": {
              "outlinewidth": 0,
              "tickcolor": "rgb(36,36,36)",
              "ticklen": 8,
              "ticks": "outside",
              "tickwidth": 2
             }
            },
            "type": "scatterpolar"
           }
          ],
          "scatterpolargl": [
           {
            "marker": {
             "colorbar": {
              "outlinewidth": 0,
              "tickcolor": "rgb(36,36,36)",
              "ticklen": 8,
              "ticks": "outside",
              "tickwidth": 2
             }
            },
            "type": "scatterpolargl"
           }
          ],
          "scatterternary": [
           {
            "marker": {
             "colorbar": {
              "outlinewidth": 0,
              "tickcolor": "rgb(36,36,36)",
              "ticklen": 8,
              "ticks": "outside",
              "tickwidth": 2
             }
            },
            "type": "scatterternary"
           }
          ],
          "surface": [
           {
            "colorbar": {
             "outlinewidth": 0,
             "tickcolor": "rgb(36,36,36)",
             "ticklen": 8,
             "ticks": "outside",
             "tickwidth": 2
            },
            "colorscale": [
             [
              0,
              "rgb(2,4,25)"
             ],
             [
              0.06274509803921569,
              "rgb(24,15,41)"
             ],
             [
              0.12549019607843137,
              "rgb(47,23,57)"
             ],
             [
              0.18823529411764706,
              "rgb(71,28,72)"
             ],
             [
              0.25098039215686274,
              "rgb(97,30,82)"
             ],
             [
              0.3137254901960784,
              "rgb(123,30,89)"
             ],
             [
              0.3764705882352941,
              "rgb(150,27,91)"
             ],
             [
              0.4392156862745098,
              "rgb(177,22,88)"
             ],
             [
              0.5019607843137255,
              "rgb(203,26,79)"
             ],
             [
              0.5647058823529412,
              "rgb(223,47,67)"
             ],
             [
              0.6274509803921569,
              "rgb(236,76,61)"
             ],
             [
              0.6901960784313725,
              "rgb(242,107,73)"
             ],
             [
              0.7529411764705882,
              "rgb(244,135,95)"
             ],
             [
              0.8156862745098039,
              "rgb(245,162,122)"
             ],
             [
              0.8784313725490196,
              "rgb(246,188,153)"
             ],
             [
              0.9411764705882353,
              "rgb(247,212,187)"
             ],
             [
              1,
              "rgb(250,234,220)"
             ]
            ],
            "type": "surface"
           }
          ],
          "table": [
           {
            "cells": {
             "fill": {
              "color": "rgb(231,231,240)"
             },
             "line": {
              "color": "white"
             }
            },
            "header": {
             "fill": {
              "color": "rgb(183,183,191)"
             },
             "line": {
              "color": "white"
             }
            },
            "type": "table"
           }
          ]
         },
         "layout": {
          "annotationdefaults": {
           "arrowcolor": "rgb(67,103,167)"
          },
          "autotypenumbers": "strict",
          "coloraxis": {
           "colorbar": {
            "outlinewidth": 0,
            "tickcolor": "rgb(36,36,36)",
            "ticklen": 8,
            "ticks": "outside",
            "tickwidth": 2
           }
          },
          "colorscale": {
           "sequential": [
            [
             0,
             "rgb(2,4,25)"
            ],
            [
             0.06274509803921569,
             "rgb(24,15,41)"
            ],
            [
             0.12549019607843137,
             "rgb(47,23,57)"
            ],
            [
             0.18823529411764706,
             "rgb(71,28,72)"
            ],
            [
             0.25098039215686274,
             "rgb(97,30,82)"
            ],
            [
             0.3137254901960784,
             "rgb(123,30,89)"
            ],
            [
             0.3764705882352941,
             "rgb(150,27,91)"
            ],
            [
             0.4392156862745098,
             "rgb(177,22,88)"
            ],
            [
             0.5019607843137255,
             "rgb(203,26,79)"
            ],
            [
             0.5647058823529412,
             "rgb(223,47,67)"
            ],
            [
             0.6274509803921569,
             "rgb(236,76,61)"
            ],
            [
             0.6901960784313725,
             "rgb(242,107,73)"
            ],
            [
             0.7529411764705882,
             "rgb(244,135,95)"
            ],
            [
             0.8156862745098039,
             "rgb(245,162,122)"
            ],
            [
             0.8784313725490196,
             "rgb(246,188,153)"
            ],
            [
             0.9411764705882353,
             "rgb(247,212,187)"
            ],
            [
             1,
             "rgb(250,234,220)"
            ]
           ],
           "sequentialminus": [
            [
             0,
             "rgb(2,4,25)"
            ],
            [
             0.06274509803921569,
             "rgb(24,15,41)"
            ],
            [
             0.12549019607843137,
             "rgb(47,23,57)"
            ],
            [
             0.18823529411764706,
             "rgb(71,28,72)"
            ],
            [
             0.25098039215686274,
             "rgb(97,30,82)"
            ],
            [
             0.3137254901960784,
             "rgb(123,30,89)"
            ],
            [
             0.3764705882352941,
             "rgb(150,27,91)"
            ],
            [
             0.4392156862745098,
             "rgb(177,22,88)"
            ],
            [
             0.5019607843137255,
             "rgb(203,26,79)"
            ],
            [
             0.5647058823529412,
             "rgb(223,47,67)"
            ],
            [
             0.6274509803921569,
             "rgb(236,76,61)"
            ],
            [
             0.6901960784313725,
             "rgb(242,107,73)"
            ],
            [
             0.7529411764705882,
             "rgb(244,135,95)"
            ],
            [
             0.8156862745098039,
             "rgb(245,162,122)"
            ],
            [
             0.8784313725490196,
             "rgb(246,188,153)"
            ],
            [
             0.9411764705882353,
             "rgb(247,212,187)"
            ],
            [
             1,
             "rgb(250,234,220)"
            ]
           ]
          },
          "colorway": [
           "rgb(76,114,176)",
           "rgb(221,132,82)",
           "rgb(85,168,104)",
           "rgb(196,78,82)",
           "rgb(129,114,179)",
           "rgb(147,120,96)",
           "rgb(218,139,195)",
           "rgb(140,140,140)",
           "rgb(204,185,116)",
           "rgb(100,181,205)"
          ],
          "font": {
           "color": "rgb(36,36,36)"
          },
          "geo": {
           "bgcolor": "white",
           "lakecolor": "white",
           "landcolor": "rgb(234,234,242)",
           "showlakes": true,
           "showland": true,
           "subunitcolor": "white"
          },
          "hoverlabel": {
           "align": "left"
          },
          "hovermode": "closest",
          "paper_bgcolor": "white",
          "plot_bgcolor": "rgb(234,234,242)",
          "polar": {
           "angularaxis": {
            "gridcolor": "white",
            "linecolor": "white",
            "showgrid": true,
            "ticks": ""
           },
           "bgcolor": "rgb(234,234,242)",
           "radialaxis": {
            "gridcolor": "white",
            "linecolor": "white",
            "showgrid": true,
            "ticks": ""
           }
          },
          "scene": {
           "xaxis": {
            "backgroundcolor": "rgb(234,234,242)",
            "gridcolor": "white",
            "gridwidth": 2,
            "linecolor": "white",
            "showbackground": true,
            "showgrid": true,
            "ticks": "",
            "zerolinecolor": "white"
           },
           "yaxis": {
            "backgroundcolor": "rgb(234,234,242)",
            "gridcolor": "white",
            "gridwidth": 2,
            "linecolor": "white",
            "showbackground": true,
            "showgrid": true,
            "ticks": "",
            "zerolinecolor": "white"
           },
           "zaxis": {
            "backgroundcolor": "rgb(234,234,242)",
            "gridcolor": "white",
            "gridwidth": 2,
            "linecolor": "white",
            "showbackground": true,
            "showgrid": true,
            "ticks": "",
            "zerolinecolor": "white"
           }
          },
          "shapedefaults": {
           "fillcolor": "rgb(67,103,167)",
           "line": {
            "width": 0
           },
           "opacity": 0.5
          },
          "ternary": {
           "aaxis": {
            "gridcolor": "white",
            "linecolor": "white",
            "showgrid": true,
            "ticks": ""
           },
           "baxis": {
            "gridcolor": "white",
            "linecolor": "white",
            "showgrid": true,
            "ticks": ""
           },
           "bgcolor": "rgb(234,234,242)",
           "caxis": {
            "gridcolor": "white",
            "linecolor": "white",
            "showgrid": true,
            "ticks": ""
           }
          },
          "xaxis": {
           "automargin": true,
           "gridcolor": "white",
           "linecolor": "white",
           "showgrid": true,
           "ticks": "",
           "title": {
            "standoff": 15
           },
           "zerolinecolor": "white"
          },
          "yaxis": {
           "automargin": true,
           "gridcolor": "white",
           "linecolor": "white",
           "showgrid": true,
           "ticks": "",
           "title": {
            "standoff": 15
           },
           "zerolinecolor": "white"
          }
         }
        },
        "title": {
         "text": "Subreddit size percent Distribution",
         "x": 0.5
        },
        "width": 800,
        "xaxis": {
         "autorange": true,
         "range": [
          0,
          67.0908039329092
         ],
         "title": {
          "text": "Percent"
         }
        },
        "yaxis": {
         "autorange": true,
         "range": [
          -0.5,
          42999999.5
         ],
         "title": {
          "text": "#Subscribers"
         },
         "type": "linear"
        }
       }
      },
      "image/png": "[encoded data removed]",
      "text/html": [
       "<div>                            <div id=\"2d21926a-14ef-4bf5-ab69-e82e17f6d8d1\" class=\"plotly-graph-div\" style=\"height:600px; width:800px;\"></div>            <script type=\"text/javascript\">                require([\"plotly\"], function(Plotly) {                    window.PLOTLYENV=window.PLOTLYENV || {};                                    if (document.getElementById(\"2d21926a-14ef-4bf5-ab69-e82e17f6d8d1\")) {                    Plotly.newPlot(                        \"2d21926a-14ef-4bf5-ab69-e82e17f6d8d1\",                        [{\"histnorm\":\"percent\",\"y\":[2429910,1081817,1993833,3772455,704351,1059141,2880205,1433483,4587247,1613104,480772,251348,249890,875060,125880,701946,683943,721747,2535969,690842,1626222,20375796,1897447,721994,171160,758370,115472,164668,104534,239716,3288273,586200,232233,1487744,6366305,1346651,517991,255622,404970,600422,146623,169497,385502,2067922,205208,631906,256603,291730,292021,6221717,296476,247152,610768,893751,3289600,2597529,204483,2190899,2267052,64545,270642,1391471,2215665,86652,788949,2762614,45003,119823,1225996,231217,224569,1217742,345712,4110197,1114499,2250399,901515,1906725,4762122,100006,1119404,1015782,984010,255331,307964,2258429,1510153,909025,81751,354396,2762614,4272674,147433,159010,407828,181856,2862240,1300663,570245,1114968,180783,17141888,1840922,361371,446631,534110,182926,1141373,1088380,97028,1543103,1245093,704978,976374,241291,3192733,10385036,887647,14268558,1391495,418855,17707340,307179,159760,1757377,177790,1056940,135173,608061,1161085,644812,247080,198597,289987,155201,984122,913176,64396,3823660,103217,892782,217735,589879,1363227,137417,263682,423202,2112204,297266,86337,336111,4007651,1781710,409572,6051209,1520415,908082,237629,734788,2134015,1712679,642372,1688838,1515599,713544,269933,1166071,256411,178847,277674,1268969,166362,366846,229091,330273,16594676,2465928,113747,620192,947899,223493,104883,2614318,3278238,232130,847901,1144,3214077,242974,164808,204950,814507,421506,4476763,18006109,17458065,232211,321749,237608,5335983,469362,2030919,329812,6420507,1169816,325492,357744,605933,148989,1206859,1156635,626452,2057206,335103,1339595,1843337,309282,399774,407828,951259,648564,3214077,371192,2561074,120188,1455030,271766,158305,1260120,2261733,459737,687036,1145232,780448,513054,1001749,771373,1130586,1753545,1126356,16970485,3668702,1860710,266978,427178,110377,509684,313384,624917,1151933,1458118,1083345,881522,160752,585143,3308504,222894,195863,328754,196686,1328606,310272,250524,103302,604560,1441672,3323407,379949,533787,373399,281687,909698,998735,435152,53380,1860021,331169,531706,204713,725411,161907,390564,22377633,166855,362874,507555,183956,2038749,2744128,3068712,2970418,1103835,294826,64317,324210,3024232,4120908,11392004,1481031,394325,892072,689663,2109762,4043210,356363,11284154,1176295,139726,992291,226104,649341,464515,856442,11101094,1516508,103472,2878270,154397,516190,368581,5592745,741686,4090228,6908739,550181,386581,3239725,2995528,809174,1536940,203395,203509,231657,174051,268698,274379,262906,979970,84910,3387413,2269642,1595097,337646,309523,74959,210979,677947,640610,465575,453480,286004,1030086,752328,135213,858192,198495,305325,2477798,1876052,180898,1128449,840627,245961,1610501,777695,179088,961120,1372684,622142,5712334,956710,234247,227415,3210614,104487,2779150,1913392,768245,1467381,1907723,346607,17142101,182509,359842,218761,643097,319614,270084,111234,4077960,1527837,23831717,444745,241851,124029,2640831,908549,661180,622678,2602309,208365,598683,1102306,189281,5865570,363903,207545,583382,997699,548383,888802,289496,561868,175499,5720345,2376566,3032899,411157,756825,2188006,6366305,22555431,1858008,692936,221288,1147515,2021904,1822846,257478,204704,485996,3698449,9998285,328592,5513330,2213372,195712,1265428,16594676,705358,685542,636266,519456,416646,170761,485174,253932,454589,3990798,1344230,1189326,118717,205393,1129883,2022624,597569,7647250,153888,390460,372450,375650,1860259,159648,124773,959718,259212,153313,889533,1820794,743145,660957,113403,777200,680821,72305,10986256,246516,718972,222834,450216,3660350,218657,153381,172104,290788,28027282,349108,778244,5097,121051,167202,278312,292115,754719,1142955,770762,854958,1874311,153987,1114250,709539,1069333,663695,598602,699911,824775,238436,231086,1158144,495820,2575119,164842,1035338,2010727,396717,949507,1745188,292029,406901,732014,744680,155309,648131,4696,1998709,2862246,311014,84505,170056,471342,372944,1354361,5665063,4096990,142420,273886,489552,287997,803382,248738,66638,1683047,708828,23523477,214747,115072,320317,1510088,929372,191106,1589689,140460,926531,429506,385693,1706671,3627402,14833944,1184344,635267,489448,185578,826601,4871022,585140,30615328,3469940,2859139,646297,309910,2012390,166499,233912,388062,830306,21676638,92655,1039693,744990,430591,686171,294218,102594,1001641,463609,376375,129234,230081,2541612,2426910,3910177,287292,788419,22583444,282326,275178,469399,79111,518869,252626,511525,271104,61383,498847,670886,1210694,279998,133725,1066886,535101,297515,210580,312313,241183,4392364,3343875,321235,1236644,158970,398970,826217,340091,1700549,661209,1348732,117413,1406151,121056,797969,221241,6332504,762502,282750,591509,151232,2934012,2090949,548833,1031991,124816,254091,1775982,4884358,1386674,2350388,1355801,247551,21623363,198173,191780,1394093,2830041,201533,1519435,3104357,2337185,1445048,180741,821095,1308357,1980515,150380,1697330,1087679,187047,328640,240,417731,1658783,491610,2422015,602497,2955569,819401,259671,126527,514170,1150212,3816586,289487,1410279,1188737,279487,177537,3671175,84995,353688,1347568,384015,196940,223588,32715056,593484,180932,511955,2258863,1227819,324745,716053,293893,155873,430724,454221,189425,556178,1731979,523489,186756,380870,352423,510434,8069383,109939,320168,320563,697342,151151,172195,256691,3394780,341401,174240,924281,731504,231715,238802,194802,150216,2782396,186753,632728,141985,334120,684431,366007,311189,629903,177282,7504548,18464297,452174,210090,1050617,14184770,1223120,419374,16970485,911980,1479249,47659,187616,2275527,547567,191803,890251,384079,168027,4051568,2464475,448877,546117,128531,13628166,146479,2454001,200347,87475,3090656,1700911,130117,520845,3913200,129402,2760998,630191,454795,200932,1503437,187371,1210696,264801,109586,741626,1201505,1051121,136169,313516,363809,444946,2336087,6738328,1980593,208219,217416,458546,806453,1920727,231514,538858,2548213,324276,177306,714019,382954,2666726,856218,139801,729932,519459,4008206,453219,1115747,1672119,69891,452313,2124964,1220098,298012,4408499,1253289,162121,284286,436548,231697,3069762,373151,2171003,2396825,7449831,427006,2359042,291145,147771,128997,110471,1860168,269887,501213,2478049,357045,5126153,2047968,618081,260894,1785098,569701,123316,763305,272748,1523397,185701,293455,428231,1732084,539698,345283,516429,2303032,379403,299146,299791,835118,734775,861557,2707625,566944,322694,570245,3470791,127184,377156,5254479,1267553,112690,608223,4586159,377560,5164832,2633185,1136501,42605824,814193,1308608,1016756,982612,668367,1058913,1395902,107050,3371554,425843,440047,176252,480776,5719156,230325,142037,1317165,236429,1143588,17725003,674484,143673,6378198,163461,3431480,495655,866221,148958,352929,667334,369808,1016409,704755,104084,1349723,239201,199125,24317567,1801398,7015267,1244760,8380169,1698826,2558261,370552,1428923,37939502,403327,1613750,209335,1806292,208314,664974,26830276,20812959,753136,698745,567395,97645,326871,1219392,1141396,200608,298922,2229270,355808,51812,22308521,205528,1157235,515853,1876120,32495638,689305,3031178,258202,1224386,265796,726305,171671,509868,395557,223318,1151996,475262,31437648,966180,100559,2944066,458828,177099,459426,315875,158314,772983,261163,5499400,173784,1509603,3848379,1957952,436124,1079577,1558881,1082533,451911,282177,381481,1279163,4987386,427137,301463,156086,3227435,744688,743145,944450,949579,3174658,1867308],\"type\":\"histogram\"}],                        {\"template\":{\"data\":{\"barpolar\":[{\"marker\":{\"line\":{\"color\":\"rgb(234,234,242)\",\"width\":0.5},\"pattern\":{\"fillmode\":\"overlay\",\"size\":10,\"solidity\":0.2}},\"type\":\"barpolar\"}],\"bar\":[{\"error_x\":{\"color\":\"rgb(36,36,36)\"},\"error_y\":{\"color\":\"rgb(36,36,36)\"},\"marker\":{\"line\":{\"color\":\"rgb(234,234,242)\",\"width\":0.5},\"pattern\":{\"fillmode\":\"overlay\",\"size\":10,\"solidity\":0.2}},\"type\":\"bar\"}],\"carpet\":[{\"aaxis\":{\"endlinecolor\":\"rgb(36,36,36)\",\"gridcolor\":\"white\",\"linecolor\":\"white\",\"minorgridcolor\":\"white\",\"startlinecolor\":\"rgb(36,36,36)\"},\"baxis\":{\"endlinecolor\":\"rgb(36,36,36)\",\"gridcolor\":\"white\",\"linecolor\":\"white\",\"minorgridcolor\":\"white\",\"startlinecolor\":\"rgb(36,36,36)\"},\"type\":\"carpet\"}],\"choropleth\":[{\"colorbar\":{\"outlinewidth\":0,\"tickcolor\":\"rgb(36,36,36)\",\"ticklen\":8,\"ticks\":\"outside\",\"tickwidth\":2},\"type\":\"choropleth\"}],\"contourcarpet\":[{\"colorbar\":{\"outlinewidth\":0,\"tickcolor\":\"rgb(36,36,36)\",\"ticklen\":8,\"ticks\":\"outside\",\"tickwidth\":2},\"type\":\"contourcarpet\"}],\"contour\":[{\"colorbar\":{\"outlinewidth\":0,\"tickcolor\":\"rgb(36,36,36)\",\"ticklen\":8,\"ticks\":\"outside\",\"tickwidth\":2},\"colorscale\":[[0.0,\"rgb(2,4,25)\"],[0.06274509803921569,\"rgb(24,15,41)\"],[0.12549019607843137,\"rgb(47,23,57)\"],[0.18823529411764706,\"rgb(71,28,72)\"],[0.25098039215686274,\"rgb(97,30,82)\"],[0.3137254901960784,\"rgb(123,30,89)\"],[0.3764705882352941,\"rgb(150,27,91)\"],[0.4392156862745098,\"rgb(177,22,88)\"],[0.5019607843137255,\"rgb(203,26,79)\"],[0.5647058823529412,\"rgb(223,47,67)\"],[0.6274509803921569,\"rgb(236,76,61)\"],[0.6901960784313725,\"rgb(242,107,73)\"],[0.7529411764705882,\"rgb(244,135,95)\"],[0.8156862745098039,\"rgb(245,162,122)\"],[0.8784313725490196,\"rgb(246,188,153)\"],[0.9411764705882353,\"rgb(247,212,187)\"],[1.0,\"rgb(250,234,220)\"]],\"type\":\"contour\"}],\"heatmapgl\":[{\"colorbar\":{\"outlinewidth\":0,\"tickcolor\":\"rgb(36,36,36)\",\"ticklen\":8,\"ticks\":\"outside\",\"tickwidth\":2},\"colorscale\":[[0.0,\"rgb(2,4,25)\"],[0.06274509803921569,\"rgb(24,15,41)\"],[0.12549019607843137,\"rgb(47,23,57)\"],[0.18823529411764706,\"rgb(71,28,72)\"],[0.25098039215686274,\"rgb(97,30,82)\"],[0.3137254901960784,\"rgb(123,30,89)\"],[0.3764705882352941,\"rgb(150,27,91)\"],[0.4392156862745098,\"rgb(177,22,88)\"],[0.5019607843137255,\"rgb(203,26,79)\"],[0.5647058823529412,\"rgb(223,47,67)\"],[0.6274509803921569,\"rgb(236,76,61)\"],[0.6901960784313725,\"rgb(242,107,73)\"],[0.7529411764705882,\"rgb(244,135,95)\"],[0.8156862745098039,\"rgb(245,162,122)\"],[0.8784313725490196,\"rgb(246,188,153)\"],[0.9411764705882353,\"rgb(247,212,187)\"],[1.0,\"rgb(250,234,220)\"]],\"type\":\"heatmapgl\"}],\"heatmap\":[{\"colorbar\":{\"outlinewidth\":0,\"tickcolor\":\"rgb(36,36,36)\",\"ticklen\":8,\"ticks\":\"outside\",\"tickwidth\":2},\"colorscale\":[[0.0,\"rgb(2,4,25)\"],[0.06274509803921569,\"rgb(24,15,41)\"],[0.12549019607843137,\"rgb(47,23,57)\"],[0.18823529411764706,\"rgb(71,28,72)\"],[0.25098039215686274,\"rgb(97,30,82)\"],[0.3137254901960784,\"rgb(123,30,89)\"],[0.3764705882352941,\"rgb(150,27,91)\"],[0.4392156862745098,\"rgb(177,22,88)\"],[0.5019607843137255,\"rgb(203,26,79)\"],[0.5647058823529412,\"rgb(223,47,67)\"],[0.6274509803921569,\"rgb(236,76,61)\"],[0.6901960784313725,\"rgb(242,107,73)\"],[0.7529411764705882,\"rgb(244,135,95)\"],[0.8156862745098039,\"rgb(245,162,122)\"],[0.8784313725490196,\"rgb(246,188,153)\"],[0.9411764705882353,\"rgb(247,212,187)\"],[1.0,\"rgb(250,234,220)\"]],\"type\":\"heatmap\"}],\"histogram2dcontour\":[{\"colorbar\":{\"outlinewidth\":0,\"tickcolor\":\"rgb(36,36,36)\",\"ticklen\":8,\"ticks\":\"outside\",\"tickwidth\":2},\"colorscale\":[[0.0,\"rgb(2,4,25)\"],[0.06274509803921569,\"rgb(24,15,41)\"],[0.12549019607843137,\"rgb(47,23,57)\"],[0.18823529411764706,\"rgb(71,28,72)\"],[0.25098039215686274,\"rgb(97,30,82)\"],[0.3137254901960784,\"rgb(123,30,89)\"],[0.3764705882352941,\"rgb(150,27,91)\"],[0.4392156862745098,\"rgb(177,22,88)\"],[0.5019607843137255,\"rgb(203,26,79)\"],[0.5647058823529412,\"rgb(223,47,67)\"],[0.6274509803921569,\"rgb(236,76,61)\"],[0.6901960784313725,\"rgb(242,107,73)\"],[0.7529411764705882,\"rgb(244,135,95)\"],[0.8156862745098039,\"rgb(245,162,122)\"],[0.8784313725490196,\"rgb(246,188,153)\"],[0.9411764705882353,\"rgb(247,212,187)\"],[1.0,\"rgb(250,234,220)\"]],\"type\":\"histogram2dcontour\"}],\"histogram2d\":[{\"colorbar\":{\"outlinewidth\":0,\"tickcolor\":\"rgb(36,36,36)\",\"ticklen\":8,\"ticks\":\"outside\",\"tickwidth\":2},\"colorscale\":[[0.0,\"rgb(2,4,25)\"],[0.06274509803921569,\"rgb(24,15,41)\"],[0.12549019607843137,\"rgb(47,23,57)\"],[0.18823529411764706,\"rgb(71,28,72)\"],[0.25098039215686274,\"rgb(97,30,82)\"],[0.3137254901960784,\"rgb(123,30,89)\"],[0.3764705882352941,\"rgb(150,27,91)\"],[0.4392156862745098,\"rgb(177,22,88)\"],[0.5019607843137255,\"rgb(203,26,79)\"],[0.5647058823529412,\"rgb(223,47,67)\"],[0.6274509803921569,\"rgb(236,76,61)\"],[0.6901960784313725,\"rgb(242,107,73)\"],[0.7529411764705882,\"rgb(244,135,95)\"],[0.8156862745098039,\"rgb(245,162,122)\"],[0.8784313725490196,\"rgb(246,188,153)\"],[0.9411764705882353,\"rgb(247,212,187)\"],[1.0,\"rgb(250,234,220)\"]],\"type\":\"histogram2d\"}],\"histogram\":[{\"marker\":{\"pattern\":{\"fillmode\":\"overlay\",\"size\":10,\"solidity\":0.2}},\"type\":\"histogram\"}],\"mesh3d\":[{\"colorbar\":{\"outlinewidth\":0,\"tickcolor\":\"rgb(36,36,36)\",\"ticklen\":8,\"ticks\":\"outside\",\"tickwidth\":2},\"type\":\"mesh3d\"}],\"parcoords\":[{\"line\":{\"colorbar\":{\"outlinewidth\":0,\"tickcolor\":\"rgb(36,36,36)\",\"ticklen\":8,\"ticks\":\"outside\",\"tickwidth\":2}},\"type\":\"parcoords\"}],\"pie\":[{\"automargin\":true,\"type\":\"pie\"}],\"scatter3d\":[{\"line\":{\"colorbar\":{\"outlinewidth\":0,\"tickcolor\":\"rgb(36,36,36)\",\"ticklen\":8,\"ticks\":\"outside\",\"tickwidth\":2}},\"marker\":{\"colorbar\":{\"outlinewidth\":0,\"tickcolor\":\"rgb(36,36,36)\",\"ticklen\":8,\"ticks\":\"outside\",\"tickwidth\":2}},\"type\":\"scatter3d\"}],\"scattercarpet\":[{\"marker\":{\"colorbar\":{\"outlinewidth\":0,\"tickcolor\":\"rgb(36,36,36)\",\"ticklen\":8,\"ticks\":\"outside\",\"tickwidth\":2}},\"type\":\"scattercarpet\"}],\"scattergeo\":[{\"marker\":{\"colorbar\":{\"outlinewidth\":0,\"tickcolor\":\"rgb(36,36,36)\",\"ticklen\":8,\"ticks\":\"outside\",\"tickwidth\":2}},\"type\":\"scattergeo\"}],\"scattergl\":[{\"marker\":{\"colorbar\":{\"outlinewidth\":0,\"tickcolor\":\"rgb(36,36,36)\",\"ticklen\":8,\"ticks\":\"outside\",\"tickwidth\":2}},\"type\":\"scattergl\"}],\"scattermapbox\":[{\"marker\":{\"colorbar\":{\"outlinewidth\":0,\"tickcolor\":\"rgb(36,36,36)\",\"ticklen\":8,\"ticks\":\"outside\",\"tickwidth\":2}},\"type\":\"scattermapbox\"}],\"scatterpolargl\":[{\"marker\":{\"colorbar\":{\"outlinewidth\":0,\"tickcolor\":\"rgb(36,36,36)\",\"ticklen\":8,\"ticks\":\"outside\",\"tickwidth\":2}},\"type\":\"scatterpolargl\"}],\"scatterpolar\":[{\"marker\":{\"colorbar\":{\"outlinewidth\":0,\"tickcolor\":\"rgb(36,36,36)\",\"ticklen\":8,\"ticks\":\"outside\",\"tickwidth\":2}},\"type\":\"scatterpolar\"}],\"scatter\":[{\"fillpattern\":{\"fillmode\":\"overlay\",\"size\":10,\"solidity\":0.2},\"type\":\"scatter\"}],\"scatterternary\":[{\"marker\":{\"colorbar\":{\"outlinewidth\":0,\"tickcolor\":\"rgb(36,36,36)\",\"ticklen\":8,\"ticks\":\"outside\",\"tickwidth\":2}},\"type\":\"scatterternary\"}],\"surface\":[{\"colorbar\":{\"outlinewidth\":0,\"tickcolor\":\"rgb(36,36,36)\",\"ticklen\":8,\"ticks\":\"outside\",\"tickwidth\":2},\"colorscale\":[[0.0,\"rgb(2,4,25)\"],[0.06274509803921569,\"rgb(24,15,41)\"],[0.12549019607843137,\"rgb(47,23,57)\"],[0.18823529411764706,\"rgb(71,28,72)\"],[0.25098039215686274,\"rgb(97,30,82)\"],[0.3137254901960784,\"rgb(123,30,89)\"],[0.3764705882352941,\"rgb(150,27,91)\"],[0.4392156862745098,\"rgb(177,22,88)\"],[0.5019607843137255,\"rgb(203,26,79)\"],[0.5647058823529412,\"rgb(223,47,67)\"],[0.6274509803921569,\"rgb(236,76,61)\"],[0.6901960784313725,\"rgb(242,107,73)\"],[0.7529411764705882,\"rgb(244,135,95)\"],[0.8156862745098039,\"rgb(245,162,122)\"],[0.8784313725490196,\"rgb(246,188,153)\"],[0.9411764705882353,\"rgb(247,212,187)\"],[1.0,\"rgb(250,234,220)\"]],\"type\":\"surface\"}],\"table\":[{\"cells\":{\"fill\":{\"color\":\"rgb(231,231,240)\"},\"line\":{\"color\":\"white\"}},\"header\":{\"fill\":{\"color\":\"rgb(183,183,191)\"},\"line\":{\"color\":\"white\"}},\"type\":\"table\"}]},\"layout\":{\"annotationdefaults\":{\"arrowcolor\":\"rgb(67,103,167)\"},\"autotypenumbers\":\"strict\",\"coloraxis\":{\"colorbar\":{\"outlinewidth\":0,\"tickcolor\":\"rgb(36,36,36)\",\"ticklen\":8,\"ticks\":\"outside\",\"tickwidth\":2}},\"colorscale\":{\"sequential\":[[0.0,\"rgb(2,4,25)\"],[0.06274509803921569,\"rgb(24,15,41)\"],[0.12549019607843137,\"rgb(47,23,57)\"],[0.18823529411764706,\"rgb(71,28,72)\"],[0.25098039215686274,\"rgb(97,30,82)\"],[0.3137254901960784,\"rgb(123,30,89)\"],[0.3764705882352941,\"rgb(150,27,91)\"],[0.4392156862745098,\"rgb(177,22,88)\"],[0.5019607843137255,\"rgb(203,26,79)\"],[0.5647058823529412,\"rgb(223,47,67)\"],[0.6274509803921569,\"rgb(236,76,61)\"],[0.6901960784313725,\"rgb(242,107,73)\"],[0.7529411764705882,\"rgb(244,135,95)\"],[0.8156862745098039,\"rgb(245,162,122)\"],[0.8784313725490196,\"rgb(246,188,153)\"],[0.9411764705882353,\"rgb(247,212,187)\"],[1.0,\"rgb(250,234,220)\"]],\"sequentialminus\":[[0.0,\"rgb(2,4,25)\"],[0.06274509803921569,\"rgb(24,15,41)\"],[0.12549019607843137,\"rgb(47,23,57)\"],[0.18823529411764706,\"rgb(71,28,72)\"],[0.25098039215686274,\"rgb(97,30,82)\"],[0.3137254901960784,\"rgb(123,30,89)\"],[0.3764705882352941,\"rgb(150,27,91)\"],[0.4392156862745098,\"rgb(177,22,88)\"],[0.5019607843137255,\"rgb(203,26,79)\"],[0.5647058823529412,\"rgb(223,47,67)\"],[0.6274509803921569,\"rgb(236,76,61)\"],[0.6901960784313725,\"rgb(242,107,73)\"],[0.7529411764705882,\"rgb(244,135,95)\"],[0.8156862745098039,\"rgb(245,162,122)\"],[0.8784313725490196,\"rgb(246,188,153)\"],[0.9411764705882353,\"rgb(247,212,187)\"],[1.0,\"rgb(250,234,220)\"]]},\"colorway\":[\"rgb(76,114,176)\",\"rgb(221,132,82)\",\"rgb(85,168,104)\",\"rgb(196,78,82)\",\"rgb(129,114,179)\",\"rgb(147,120,96)\",\"rgb(218,139,195)\",\"rgb(140,140,140)\",\"rgb(204,185,116)\",\"rgb(100,181,205)\"],\"font\":{\"color\":\"rgb(36,36,36)\"},\"geo\":{\"bgcolor\":\"white\",\"lakecolor\":\"white\",\"landcolor\":\"rgb(234,234,242)\",\"showlakes\":true,\"showland\":true,\"subunitcolor\":\"white\"},\"hoverlabel\":{\"align\":\"left\"},\"hovermode\":\"closest\",\"paper_bgcolor\":\"white\",\"plot_bgcolor\":\"rgb(234,234,242)\",\"polar\":{\"angularaxis\":{\"gridcolor\":\"white\",\"linecolor\":\"white\",\"showgrid\":true,\"ticks\":\"\"},\"bgcolor\":\"rgb(234,234,242)\",\"radialaxis\":{\"gridcolor\":\"white\",\"linecolor\":\"white\",\"showgrid\":true,\"ticks\":\"\"}},\"scene\":{\"xaxis\":{\"backgroundcolor\":\"rgb(234,234,242)\",\"gridcolor\":\"white\",\"gridwidth\":2,\"linecolor\":\"white\",\"showbackground\":true,\"showgrid\":true,\"ticks\":\"\",\"zerolinecolor\":\"white\"},\"yaxis\":{\"backgroundcolor\":\"rgb(234,234,242)\",\"gridcolor\":\"white\",\"gridwidth\":2,\"linecolor\":\"white\",\"showbackground\":true,\"showgrid\":true,\"ticks\":\"\",\"zerolinecolor\":\"white\"},\"zaxis\":{\"backgroundcolor\":\"rgb(234,234,242)\",\"gridcolor\":\"white\",\"gridwidth\":2,\"linecolor\":\"white\",\"showbackground\":true,\"showgrid\":true,\"ticks\":\"\",\"zerolinecolor\":\"white\"}},\"shapedefaults\":{\"fillcolor\":\"rgb(67,103,167)\",\"line\":{\"width\":0},\"opacity\":0.5},\"ternary\":{\"aaxis\":{\"gridcolor\":\"white\",\"linecolor\":\"white\",\"showgrid\":true,\"ticks\":\"\"},\"baxis\":{\"gridcolor\":\"white\",\"linecolor\":\"white\",\"showgrid\":true,\"ticks\":\"\"},\"bgcolor\":\"rgb(234,234,242)\",\"caxis\":{\"gridcolor\":\"white\",\"linecolor\":\"white\",\"showgrid\":true,\"ticks\":\"\"}},\"xaxis\":{\"automargin\":true,\"gridcolor\":\"white\",\"linecolor\":\"white\",\"showgrid\":true,\"ticks\":\"\",\"title\":{\"standoff\":15},\"zerolinecolor\":\"white\"},\"yaxis\":{\"automargin\":true,\"gridcolor\":\"white\",\"linecolor\":\"white\",\"showgrid\":true,\"ticks\":\"\",\"title\":{\"standoff\":15},\"zerolinecolor\":\"white\"}}},\"yaxis\":{\"title\":{\"text\":\"#Subscribers\"}},\"xaxis\":{\"title\":{\"text\":\"Percent\"}},\"paper_bgcolor\":\"rgba(0,0,0,0)\",\"width\":800,\"height\":600,\"title\":{\"text\":\"Subreddit size percent Distribution\",\"x\":0.5}},                        {\"responsive\": true}                    ).then(function(){\n",
       "                            \n",
       "var gd = document.getElementById('2d21926a-14ef-4bf5-ab69-e82e17f6d8d1');\n",
       "var x = new MutationObserver(function (mutations, observer) {{\n",
       "        var display = window.getComputedStyle(gd).display;\n",
       "        if (!display || display === 'none') {{\n",
       "            console.log([gd, 'removed!']);\n",
       "            Plotly.purge(gd);\n",
       "            observer.disconnect();\n",
       "        }}\n",
       "}});\n",
       "\n",
       "// Listen for the removal of the full notebook cells\n",
       "var notebookContainer = gd.closest('#notebook-container');\n",
       "if (notebookContainer) {{\n",
       "    x.observe(notebookContainer, {childList: true});\n",
       "}}\n",
       "\n",
       "// Listen for the clearing of the current output cell\n",
       "var outputEl = gd.closest('.output');\n",
       "if (outputEl) {{\n",
       "    x.observe(outputEl, {childList: true});\n",
       "}}\n",
       "\n",
       "                        })                };                });            </script>        </div>"
      ]
     },
     "metadata": {},
     "output_type": "display_data"
    }
   ],
   "source": [
    "from plotly.graph_objs import Layout\n",
    "layout = Layout(\n",
    "    plot_bgcolor='rgba(0,0,0,0)'\n",
    ")\n",
    "fig = go.Figure()\n",
    "fig.add_trace(go.Histogram(y=lst_n_subscribers, histnorm='percent'))\n",
    "fig.update_yaxes(title='#Subscribers')\n",
    "fig.update_xaxes(title='Percent')\n",
    "fig.update_layout(template='seaborn', paper_bgcolor='rgba(0,0,0,0)')\n",
    "fig.update_layout(width=800, height=600)\n",
    "fig.update_layout(title='Subreddit size percent Distribution', title_x = 0.5)\n",
    "fig.write_image('{}/{}'.format('output', 'subreddit_size_distribution.png'))\n",
    "\n",
    "fig.show()"
   ]
  },
  {
   "cell_type": "code",
   "execution_count": 37,
   "id": "acffab87-6a33-4ee9-a84f-ed2196c57dc5",
   "metadata": {},
   "outputs": [
    {
     "name": "stderr",
     "output_type": "stream",
     "text": [
      "100%|██████████| 1074/1074 [00:22<00:00, 48.48it/s]\n"
     ]
    }
   ],
   "source": [
    "window_size = 5\n",
    "overlap = 4\n",
    "difference_between_values = 1\n",
    "\n",
    "lst_avg_post_subscribers_day = []\n",
    "lst_avg_growth_day = []\n",
    "lst_avg_weighed_growth_day_up = []\n",
    "lst_avg_weighed_growth_day_down = []\n",
    "lst_weighted_subscribers = []\n",
    "labels = []\n",
    "samples = []\n",
    "\n",
    "for name, stats in tqdm(subreddits_stats.items()):\n",
    "    if stats.n_subscribers() is None:\n",
    "        continue\n",
    "        \n",
    "    weighted_subscribers = (max_subscribers - stats.n_subscribers()) / (max_subscribers - min_subscribers)\n",
    "    weeks_posts = posts_per_week(stats)\n",
    "    weeks_subsribers = subsribers_per_week(stats)\n",
    "    weeks_comments = comments_per_week(stats)\n",
    "    weeks_growth =  growth_per_week(stats)\n",
    "\n",
    "\n",
    "    weeks = sorted(list(set(weeks_posts.keys()).intersection(set(weeks_subsribers.keys())).intersection(weeks_comments.keys()).intersection(weeks_growth.keys())))\n",
    "    sliding_window_weeks = sliding_window_overlap(weeks, window_size, overlap)\n",
    "    filtered_weeks = [arr for arr in sliding_window_weeks if has_equal_differences(arr, difference_between_values)]\n",
    "\n",
    "    if len(weeks) == 0:\n",
    "        continue\n",
    "\n",
    "    min_week = min(weeks)\n",
    "\n",
    "    for sample_weeks in filtered_weeks:    \n",
    "        sample = {}\n",
    "        for index, week in enumerate(sample_weeks):\n",
    "            sample['subreddit'] = name\n",
    "            sample['week_{}'.format(index)] = week\n",
    "            sample['n_posts_{}'.format(index)] = weeks_posts[week]\n",
    "            sample['n_subsribers_{}'.format(index)] = weeks_subsribers[week]\n",
    "            sample['n_comments_{}'.format(index)] = weeks_comments[week]\n",
    "            sample['growth_{}'.format(index)] = weeks_growth[week]\n",
    "            sample['wighted_growth_up_{}'.format(index)] = weeks_growth[week] * (1.05 ** (index + 1))\n",
    "            sample['wighted_growth_down_{}'.format(index)] = weeks_growth[week] * (0.95 ** (index + 1))\n",
    "\n",
    "        samples.append(sample)\n",
    "    # avg_post_subscribers = post_per_subsribers_sum / len(days_s)\n"
   ]
  },
  {
   "cell_type": "code",
   "execution_count": 230,
   "id": "4d27def8-223e-4d26-9785-efc100bd121d",
   "metadata": {},
   "outputs": [
    {
     "data": {
      "text/html": [
       "<div>\n",
       "<style scoped>\n",
       "    .dataframe tbody tr th:only-of-type {\n",
       "        vertical-align: middle;\n",
       "    }\n",
       "\n",
       "    .dataframe tbody tr th {\n",
       "        vertical-align: top;\n",
       "    }\n",
       "\n",
       "    .dataframe thead th {\n",
       "        text-align: right;\n",
       "    }\n",
       "</style>\n",
       "<table border=\"1\" class=\"dataframe\">\n",
       "  <thead>\n",
       "    <tr style=\"text-align: right;\">\n",
       "      <th></th>\n",
       "      <th>subreddit</th>\n",
       "      <th>week_0</th>\n",
       "      <th>n_posts_0</th>\n",
       "      <th>n_subsribers_0</th>\n",
       "      <th>n_comments_0</th>\n",
       "      <th>growth_0</th>\n",
       "      <th>wighted_growth_up_0</th>\n",
       "      <th>wighted_growth_down_0</th>\n",
       "      <th>week_1</th>\n",
       "      <th>n_posts_1</th>\n",
       "      <th>...</th>\n",
       "      <th>growth_3</th>\n",
       "      <th>wighted_growth_up_3</th>\n",
       "      <th>wighted_growth_down_3</th>\n",
       "      <th>week_4</th>\n",
       "      <th>n_posts_4</th>\n",
       "      <th>n_subsribers_4</th>\n",
       "      <th>n_comments_4</th>\n",
       "      <th>growth_4</th>\n",
       "      <th>wighted_growth_up_4</th>\n",
       "      <th>wighted_growth_down_4</th>\n",
       "    </tr>\n",
       "  </thead>\n",
       "  <tbody>\n",
       "    <tr>\n",
       "      <th>0</th>\n",
       "      <td>legaladvice</td>\n",
       "      <td>2544</td>\n",
       "      <td>94.833333</td>\n",
       "      <td>537908</td>\n",
       "      <td>356.458333</td>\n",
       "      <td>0.022114</td>\n",
       "      <td>0.023220</td>\n",
       "      <td>0.021009</td>\n",
       "      <td>2545</td>\n",
       "      <td>129.791667</td>\n",
       "      <td>...</td>\n",
       "      <td>0.025062</td>\n",
       "      <td>0.030463</td>\n",
       "      <td>0.020413</td>\n",
       "      <td>2548</td>\n",
       "      <td>148.458333</td>\n",
       "      <td>601013</td>\n",
       "      <td>670.041667</td>\n",
       "      <td>0.030596</td>\n",
       "      <td>0.039049</td>\n",
       "      <td>0.023675</td>\n",
       "    </tr>\n",
       "    <tr>\n",
       "      <th>1</th>\n",
       "      <td>legaladvice</td>\n",
       "      <td>2545</td>\n",
       "      <td>129.791667</td>\n",
       "      <td>551249</td>\n",
       "      <td>613.791667</td>\n",
       "      <td>0.024548</td>\n",
       "      <td>0.025776</td>\n",
       "      <td>0.023321</td>\n",
       "      <td>2546</td>\n",
       "      <td>170.791667</td>\n",
       "      <td>...</td>\n",
       "      <td>0.030596</td>\n",
       "      <td>0.037190</td>\n",
       "      <td>0.024921</td>\n",
       "      <td>2549</td>\n",
       "      <td>144.375000</td>\n",
       "      <td>615374</td>\n",
       "      <td>633.416667</td>\n",
       "      <td>0.023659</td>\n",
       "      <td>0.030196</td>\n",
       "      <td>0.018307</td>\n",
       "    </tr>\n",
       "    <tr>\n",
       "      <th>2</th>\n",
       "      <td>legaladvice</td>\n",
       "      <td>2546</td>\n",
       "      <td>170.791667</td>\n",
       "      <td>568546</td>\n",
       "      <td>800.000000</td>\n",
       "      <td>0.030972</td>\n",
       "      <td>0.032520</td>\n",
       "      <td>0.029423</td>\n",
       "      <td>2547</td>\n",
       "      <td>136.625000</td>\n",
       "      <td>...</td>\n",
       "      <td>0.023659</td>\n",
       "      <td>0.028758</td>\n",
       "      <td>0.019270</td>\n",
       "      <td>2550</td>\n",
       "      <td>116.833333</td>\n",
       "      <td>627371</td>\n",
       "      <td>515.333333</td>\n",
       "      <td>0.019336</td>\n",
       "      <td>0.024678</td>\n",
       "      <td>0.014962</td>\n",
       "    </tr>\n",
       "    <tr>\n",
       "      <th>3</th>\n",
       "      <td>legaladvice</td>\n",
       "      <td>2547</td>\n",
       "      <td>136.625000</td>\n",
       "      <td>582943</td>\n",
       "      <td>611.750000</td>\n",
       "      <td>0.025062</td>\n",
       "      <td>0.026315</td>\n",
       "      <td>0.023809</td>\n",
       "      <td>2548</td>\n",
       "      <td>148.458333</td>\n",
       "      <td>...</td>\n",
       "      <td>0.019336</td>\n",
       "      <td>0.023503</td>\n",
       "      <td>0.015749</td>\n",
       "      <td>2551</td>\n",
       "      <td>187.125000</td>\n",
       "      <td>636514</td>\n",
       "      <td>810.500000</td>\n",
       "      <td>0.014485</td>\n",
       "      <td>0.018487</td>\n",
       "      <td>0.011208</td>\n",
       "    </tr>\n",
       "    <tr>\n",
       "      <th>4</th>\n",
       "      <td>legaladvice</td>\n",
       "      <td>2548</td>\n",
       "      <td>148.458333</td>\n",
       "      <td>601013</td>\n",
       "      <td>670.041667</td>\n",
       "      <td>0.030596</td>\n",
       "      <td>0.032126</td>\n",
       "      <td>0.029066</td>\n",
       "      <td>2549</td>\n",
       "      <td>144.375000</td>\n",
       "      <td>...</td>\n",
       "      <td>0.014485</td>\n",
       "      <td>0.017606</td>\n",
       "      <td>0.011798</td>\n",
       "      <td>2552</td>\n",
       "      <td>183.625000</td>\n",
       "      <td>650612</td>\n",
       "      <td>842.750000</td>\n",
       "      <td>0.021943</td>\n",
       "      <td>0.028006</td>\n",
       "      <td>0.016979</td>\n",
       "    </tr>\n",
       "    <tr>\n",
       "      <th>...</th>\n",
       "      <td>...</td>\n",
       "      <td>...</td>\n",
       "      <td>...</td>\n",
       "      <td>...</td>\n",
       "      <td>...</td>\n",
       "      <td>...</td>\n",
       "      <td>...</td>\n",
       "      <td>...</td>\n",
       "      <td>...</td>\n",
       "      <td>...</td>\n",
       "      <td>...</td>\n",
       "      <td>...</td>\n",
       "      <td>...</td>\n",
       "      <td>...</td>\n",
       "      <td>...</td>\n",
       "      <td>...</td>\n",
       "      <td>...</td>\n",
       "      <td>...</td>\n",
       "      <td>...</td>\n",
       "      <td>...</td>\n",
       "      <td>...</td>\n",
       "    </tr>\n",
       "    <tr>\n",
       "      <th>209132</th>\n",
       "      <td>india</td>\n",
       "      <td>2790</td>\n",
       "      <td>45.541667</td>\n",
       "      <td>1795343</td>\n",
       "      <td>510.708333</td>\n",
       "      <td>0.003648</td>\n",
       "      <td>0.003830</td>\n",
       "      <td>0.003465</td>\n",
       "      <td>2791</td>\n",
       "      <td>52.000000</td>\n",
       "      <td>...</td>\n",
       "      <td>0.004775</td>\n",
       "      <td>0.005804</td>\n",
       "      <td>0.003890</td>\n",
       "      <td>2794</td>\n",
       "      <td>26.375000</td>\n",
       "      <td>1836890</td>\n",
       "      <td>92.916667</td>\n",
       "      <td>0.006988</td>\n",
       "      <td>0.008918</td>\n",
       "      <td>0.005407</td>\n",
       "    </tr>\n",
       "    <tr>\n",
       "      <th>209133</th>\n",
       "      <td>india</td>\n",
       "      <td>2791</td>\n",
       "      <td>52.000000</td>\n",
       "      <td>1802522</td>\n",
       "      <td>510.791667</td>\n",
       "      <td>0.003992</td>\n",
       "      <td>0.004191</td>\n",
       "      <td>0.003792</td>\n",
       "      <td>2792</td>\n",
       "      <td>55.375000</td>\n",
       "      <td>...</td>\n",
       "      <td>0.006988</td>\n",
       "      <td>0.008493</td>\n",
       "      <td>0.005691</td>\n",
       "      <td>2795</td>\n",
       "      <td>27.291667</td>\n",
       "      <td>1845094</td>\n",
       "      <td>131.791667</td>\n",
       "      <td>0.004458</td>\n",
       "      <td>0.005689</td>\n",
       "      <td>0.003449</td>\n",
       "    </tr>\n",
       "    <tr>\n",
       "      <th>209134</th>\n",
       "      <td>india</td>\n",
       "      <td>2792</td>\n",
       "      <td>55.375000</td>\n",
       "      <td>1815419</td>\n",
       "      <td>533.708333</td>\n",
       "      <td>0.007133</td>\n",
       "      <td>0.007490</td>\n",
       "      <td>0.006777</td>\n",
       "      <td>2793</td>\n",
       "      <td>30.583333</td>\n",
       "      <td>...</td>\n",
       "      <td>0.004458</td>\n",
       "      <td>0.005418</td>\n",
       "      <td>0.003631</td>\n",
       "      <td>2796</td>\n",
       "      <td>25.375000</td>\n",
       "      <td>1852562</td>\n",
       "      <td>111.875000</td>\n",
       "      <td>0.004041</td>\n",
       "      <td>0.005157</td>\n",
       "      <td>0.003127</td>\n",
       "    </tr>\n",
       "    <tr>\n",
       "      <th>209135</th>\n",
       "      <td>india</td>\n",
       "      <td>2793</td>\n",
       "      <td>30.583333</td>\n",
       "      <td>1824106</td>\n",
       "      <td>132.166667</td>\n",
       "      <td>0.004775</td>\n",
       "      <td>0.005014</td>\n",
       "      <td>0.004537</td>\n",
       "      <td>2794</td>\n",
       "      <td>26.375000</td>\n",
       "      <td>...</td>\n",
       "      <td>0.004041</td>\n",
       "      <td>0.004911</td>\n",
       "      <td>0.003291</td>\n",
       "      <td>2797</td>\n",
       "      <td>19.875000</td>\n",
       "      <td>1853126</td>\n",
       "      <td>93.250000</td>\n",
       "      <td>0.000304</td>\n",
       "      <td>0.000389</td>\n",
       "      <td>0.000236</td>\n",
       "    </tr>\n",
       "    <tr>\n",
       "      <th>209136</th>\n",
       "      <td>india</td>\n",
       "      <td>2794</td>\n",
       "      <td>26.375000</td>\n",
       "      <td>1836890</td>\n",
       "      <td>92.916667</td>\n",
       "      <td>0.006988</td>\n",
       "      <td>0.007337</td>\n",
       "      <td>0.006638</td>\n",
       "      <td>2795</td>\n",
       "      <td>27.291667</td>\n",
       "      <td>...</td>\n",
       "      <td>0.000304</td>\n",
       "      <td>0.000370</td>\n",
       "      <td>0.000248</td>\n",
       "      <td>2798</td>\n",
       "      <td>9.541667</td>\n",
       "      <td>1867308</td>\n",
       "      <td>44.375000</td>\n",
       "      <td>0.002534</td>\n",
       "      <td>0.003234</td>\n",
       "      <td>0.001960</td>\n",
       "    </tr>\n",
       "  </tbody>\n",
       "</table>\n",
       "<p>209137 rows × 36 columns</p>\n",
       "</div>"
      ],
      "text/plain": [
       "          subreddit  week_0   n_posts_0  n_subsribers_0  n_comments_0  \\\n",
       "0       legaladvice    2544   94.833333          537908    356.458333   \n",
       "1       legaladvice    2545  129.791667          551249    613.791667   \n",
       "2       legaladvice    2546  170.791667          568546    800.000000   \n",
       "3       legaladvice    2547  136.625000          582943    611.750000   \n",
       "4       legaladvice    2548  148.458333          601013    670.041667   \n",
       "...             ...     ...         ...             ...           ...   \n",
       "209132        india    2790   45.541667         1795343    510.708333   \n",
       "209133        india    2791   52.000000         1802522    510.791667   \n",
       "209134        india    2792   55.375000         1815419    533.708333   \n",
       "209135        india    2793   30.583333         1824106    132.166667   \n",
       "209136        india    2794   26.375000         1836890     92.916667   \n",
       "\n",
       "        growth_0  wighted_growth_up_0  wighted_growth_down_0  week_1  \\\n",
       "0       0.022114             0.023220               0.021009    2545   \n",
       "1       0.024548             0.025776               0.023321    2546   \n",
       "2       0.030972             0.032520               0.029423    2547   \n",
       "3       0.025062             0.026315               0.023809    2548   \n",
       "4       0.030596             0.032126               0.029066    2549   \n",
       "...          ...                  ...                    ...     ...   \n",
       "209132  0.003648             0.003830               0.003465    2791   \n",
       "209133  0.003992             0.004191               0.003792    2792   \n",
       "209134  0.007133             0.007490               0.006777    2793   \n",
       "209135  0.004775             0.005014               0.004537    2794   \n",
       "209136  0.006988             0.007337               0.006638    2795   \n",
       "\n",
       "         n_posts_1  ...  growth_3  wighted_growth_up_3  wighted_growth_down_3  \\\n",
       "0       129.791667  ...  0.025062             0.030463               0.020413   \n",
       "1       170.791667  ...  0.030596             0.037190               0.024921   \n",
       "2       136.625000  ...  0.023659             0.028758               0.019270   \n",
       "3       148.458333  ...  0.019336             0.023503               0.015749   \n",
       "4       144.375000  ...  0.014485             0.017606               0.011798   \n",
       "...            ...  ...       ...                  ...                    ...   \n",
       "209132   52.000000  ...  0.004775             0.005804               0.003890   \n",
       "209133   55.375000  ...  0.006988             0.008493               0.005691   \n",
       "209134   30.583333  ...  0.004458             0.005418               0.003631   \n",
       "209135   26.375000  ...  0.004041             0.004911               0.003291   \n",
       "209136   27.291667  ...  0.000304             0.000370               0.000248   \n",
       "\n",
       "        week_4   n_posts_4  n_subsribers_4  n_comments_4  growth_4  \\\n",
       "0         2548  148.458333          601013    670.041667  0.030596   \n",
       "1         2549  144.375000          615374    633.416667  0.023659   \n",
       "2         2550  116.833333          627371    515.333333  0.019336   \n",
       "3         2551  187.125000          636514    810.500000  0.014485   \n",
       "4         2552  183.625000          650612    842.750000  0.021943   \n",
       "...        ...         ...             ...           ...       ...   \n",
       "209132    2794   26.375000         1836890     92.916667  0.006988   \n",
       "209133    2795   27.291667         1845094    131.791667  0.004458   \n",
       "209134    2796   25.375000         1852562    111.875000  0.004041   \n",
       "209135    2797   19.875000         1853126     93.250000  0.000304   \n",
       "209136    2798    9.541667         1867308     44.375000  0.002534   \n",
       "\n",
       "        wighted_growth_up_4  wighted_growth_down_4  \n",
       "0                  0.039049               0.023675  \n",
       "1                  0.030196               0.018307  \n",
       "2                  0.024678               0.014962  \n",
       "3                  0.018487               0.011208  \n",
       "4                  0.028006               0.016979  \n",
       "...                     ...                    ...  \n",
       "209132             0.008918               0.005407  \n",
       "209133             0.005689               0.003449  \n",
       "209134             0.005157               0.003127  \n",
       "209135             0.000389               0.000236  \n",
       "209136             0.003234               0.001960  \n",
       "\n",
       "[209137 rows x 36 columns]"
      ]
     },
     "execution_count": 230,
     "metadata": {},
     "output_type": "execute_result"
    }
   ],
   "source": [
    "data = pd.DataFrame(samples)\n",
    "data"
   ]
  },
  {
   "cell_type": "code",
   "execution_count": 248,
   "id": "d28a5d6f-1e4e-4524-bb8d-faa8abe20189",
   "metadata": {},
   "outputs": [],
   "source": [
    "X_columns = [ column_name for i in range(window_size - 1) for column_name in ['week_{}'.format(i), 'n_posts_{}'.format(i), 'n_subsribers_{}'.format(i), 'n_comments_{}'.format(i), 'growth_{}'.format(i)]]#, 'wighted_growth_up_{}'.format(i), 'wighted_growth_up_{}'.format(i), 'wighted_growth_down_{}'.format(i)]]\n",
    "y_columns = ['n_subsribers_4']\n",
    "# y_columns = ['week_4', 'n_posts_4', 'n_comments_4', 'growth_4']\n",
    "train_test_split = 0.8\n",
    "\n",
    "X_train , y_train , X_test , y_test = [[], [], [], []]\n",
    "for subreddit_name in data['subreddit'].unique():\n",
    "    subreddit_samples = data.loc[data['subreddit'] == subreddit_name].reset_index()\n",
    "    n_reddit_samples = len(subreddit_samples)\n",
    "    subreddit_train = subreddit_samples.iloc[:int(n_reddit_samples * train_test_split)]\n",
    "    subreddit_test = subreddit_samples.iloc[int(n_reddit_samples * train_test_split):]\n",
    "    X_train += list(subreddit_train[X_columns].values.tolist())\n",
    "    y_train += list(subreddit_train[y_columns].values.tolist())\n",
    "    X_test += list(subreddit_test[X_columns].values.tolist())\n",
    "    y_test += list(subreddit_test[y_columns].values.tolist())\n",
    "    \n",
    " "
   ]
  },
  {
   "cell_type": "code",
   "execution_count": 249,
   "id": "ab3f1544-8c37-44ca-b490-385fc78aea36",
   "metadata": {},
   "outputs": [
    {
     "name": "stdout",
     "output_type": "stream",
     "text": [
      "Root Mean Squared Error: 397858.6433220687\n"
     ]
    }
   ],
   "source": [
    "model = CatBoostRegressor(iterations=1000, learning_rate=0.1, depth=6, loss_function='RMSE')\n",
    "\n",
    "# Train the model\n",
    "model.fit(X_train, y_train, verbose=0)\n",
    "\n",
    "# Make predictions\n",
    "y_pred = model.predict(X_test)\n",
    "\n",
    "# Calculate RMSE\n",
    "rmse  = mean_squared_error(y_test, y_pred, squared=False)\n",
    "print(\"Root Mean Squared Error:\", rmse)\n"
   ]
  },
  {
   "cell_type": "code",
   "execution_count": 311,
   "id": "f7d63a1f-6fd2-4218-864d-3e7531fa39ce",
   "metadata": {},
   "outputs": [],
   "source": [
    "subreddit_name = np.random.choice(data['subreddit'], 1)[0]\n",
    "weeks_subsribers = subsribers_per_week(subreddits_stats[subreddit_name])\n",
    "    \n",
    "real_weeks = list(weeks_subsribers.keys())\n",
    "real_subscribers = list(weeks_subsribers.values())\n",
    "\n",
    "subreddit_data = data.loc[data['subreddit'] == subreddit_name].reset_index()\n",
    "n_reddit_data = len(subreddit_data)\n",
    "subreddit_to_predict = subreddit_data.iloc[int(n_reddit_data * train_test_split):]\n",
    "idx = real_weeks.index(subreddit_to_predict.iloc[-1]['week_4'])\n",
    "real_weeks = real_weeks[:idx + 1]\n",
    "real_subscribers = real_subscribers[:idx + 1]\n",
    "predict_subscribers = []\n",
    "predict_weeks = []\n",
    "for X_predict in list(subreddit_to_predict[X_columns].values.tolist()):\n",
    "    predict_weeks.append(X_predict[X_columns.index('week_3')] + 1)\n",
    "    predict_subscribers.append(model.predict(X_predict))"
   ]
  },
  {
   "cell_type": "code",
   "execution_count": 312,
   "id": "adf4e3cf-d9ef-4b28-af9d-85f3ec5bc114",
   "metadata": {},
   "outputs": [
    {
     "data": {
      "application/vnd.plotly.v1+json": {
       "config": {
        "plotlyServerURL": "https://plot.ly"
       },
       "data": [
        {
         "mode": "lines",
         "name": "real",
         "type": "scatter",
         "x": [
          2234,
          2235,
          2236,
          2237,
          2238,
          2239,
          2240,
          2241,
          2242,
          2243,
          2244,
          2245,
          2246,
          2247,
          2248,
          2249,
          2250,
          2251,
          2252,
          2253,
          2254,
          2255,
          2256,
          2257,
          2258,
          2259,
          2260,
          2261,
          2262,
          2263,
          2264,
          2265,
          2266,
          2267,
          2268,
          2269,
          2270,
          2271,
          2272,
          2273,
          2274,
          2275,
          2276,
          2277,
          2278,
          2279,
          2280,
          2281,
          2282,
          2283,
          2284,
          2285,
          2286,
          2287,
          2288,
          2289,
          2290,
          2291,
          2292,
          2293,
          2294,
          2295,
          2296,
          2297,
          2298,
          2299,
          2300,
          2301,
          2302,
          2303,
          2304,
          2305,
          2306,
          2307,
          2308,
          2309,
          2310,
          2311,
          2312,
          2313,
          2314,
          2315,
          2316,
          2317,
          2318,
          2319,
          2320,
          2321,
          2322,
          2323,
          2324,
          2325,
          2326,
          2327,
          2328,
          2329,
          2330,
          2331,
          2332,
          2333,
          2334,
          2335,
          2336,
          2337,
          2338,
          2339,
          2340,
          2341,
          2342,
          2343,
          2344,
          2345,
          2346,
          2347,
          2348,
          2349,
          2350,
          2351,
          2352,
          2353,
          2354,
          2355,
          2356,
          2357,
          2358,
          2359,
          2360,
          2361,
          2362,
          2363,
          2364,
          2365,
          2366,
          2367,
          2368,
          2369,
          2370,
          2371,
          2372,
          2373,
          2374,
          2375,
          2376,
          2377,
          2378,
          2379,
          2380,
          2381,
          2382,
          2383,
          2384,
          2385,
          2386,
          2387,
          2388,
          2389,
          2390,
          2391,
          2392,
          2393,
          2394,
          2395,
          2396,
          2397,
          2398,
          2399,
          2400,
          2401,
          2402,
          2403,
          2404,
          2405,
          2406,
          2407,
          2408,
          2409,
          2410,
          2411,
          2412,
          2413,
          2414,
          2415,
          2416,
          2417,
          2418,
          2419,
          2420,
          2421,
          2422,
          2423,
          2424,
          2425,
          2426,
          2427,
          2428,
          2429,
          2430,
          2431,
          2432,
          2433,
          2434,
          2435,
          2436,
          2437,
          2438,
          2439,
          2440,
          2441,
          2442,
          2443,
          2444,
          2445,
          2446,
          2447,
          2448,
          2449,
          2450,
          2451,
          2452,
          2453,
          2454,
          2455,
          2456,
          2457,
          2458,
          2459,
          2460,
          2461,
          2462,
          2463,
          2464,
          2465,
          2466,
          2467,
          2468,
          2469,
          2470,
          2471,
          2472,
          2473,
          2474,
          2475,
          2476,
          2477,
          2478,
          2479,
          2480,
          2481,
          2482,
          2483,
          2484,
          2485,
          2486,
          2487,
          2488,
          2489,
          2490,
          2491,
          2492,
          2493,
          2494,
          2495,
          2496,
          2497,
          2498,
          2499,
          2500,
          2501,
          2502,
          2503,
          2504,
          2505,
          2506,
          2507,
          2508,
          2509,
          2510,
          2511,
          2512,
          2514,
          2515,
          2516,
          2517,
          2518,
          2519,
          2520,
          2521,
          2522,
          2523,
          2524,
          2525,
          2526,
          2527,
          2528,
          2529,
          2530,
          2531,
          2532,
          2533,
          2534,
          2535,
          2536,
          2537,
          2538,
          2539,
          2540,
          2542,
          2543,
          2544,
          2545,
          2546,
          2547,
          2548,
          2549,
          2550,
          2551,
          2552,
          2553,
          2554,
          2555,
          2556,
          2557,
          2558,
          2559,
          2560,
          2561,
          2562,
          2563,
          2564,
          2565,
          2566,
          2567,
          2568,
          2569,
          2570,
          2571,
          2572,
          2573,
          2574,
          2575,
          2576,
          2577,
          2578,
          2579,
          2580,
          2581,
          2582,
          2583,
          2584,
          2585,
          2586,
          2587,
          2588,
          2589,
          2590,
          2591,
          2592,
          2593,
          2594,
          2595,
          2596,
          2597,
          2598,
          2599,
          2600,
          2601,
          2602,
          2603,
          2604,
          2605,
          2606,
          2607,
          2608,
          2609,
          2610,
          2611,
          2612,
          2613,
          2614,
          2615,
          2616,
          2617,
          2618,
          2619,
          2620,
          2621,
          2622,
          2623,
          2624,
          2625,
          2626,
          2627,
          2628,
          2629,
          2630,
          2631,
          2632,
          2633,
          2634,
          2635,
          2636,
          2637,
          2638,
          2639,
          2640,
          2641,
          2642,
          2643,
          2644,
          2645,
          2646,
          2647,
          2648,
          2649,
          2650,
          2651,
          2652,
          2653,
          2654,
          2655,
          2656,
          2658,
          2659,
          2660,
          2661,
          2662,
          2663,
          2666,
          2667,
          2668,
          2669,
          2670,
          2671,
          2672,
          2673,
          2674,
          2675,
          2676,
          2677,
          2678,
          2679,
          2680,
          2681,
          2682,
          2683,
          2684,
          2685,
          2686,
          2687,
          2688,
          2689,
          2690,
          2691,
          2692,
          2693,
          2694,
          2695,
          2696,
          2697,
          2698,
          2699,
          2700,
          2701,
          2702,
          2703,
          2704,
          2705,
          2706,
          2707,
          2708,
          2709,
          2710,
          2711,
          2712,
          2713,
          2714,
          2715,
          2716,
          2717,
          2718,
          2719,
          2720,
          2721,
          2722,
          2723,
          2724,
          2725,
          2726,
          2727,
          2728,
          2729,
          2730,
          2731,
          2732,
          2733,
          2734,
          2735,
          2736,
          2737,
          2738,
          2739,
          2740,
          2741,
          2742,
          2743,
          2744,
          2745,
          2746,
          2747,
          2748,
          2749,
          2750,
          2751,
          2752,
          2753,
          2754,
          2755,
          2756,
          2757,
          2758,
          2759,
          2760,
          2761,
          2762,
          2763,
          2764,
          2765,
          2766,
          2767,
          2768,
          2769,
          2770,
          2771,
          2772,
          2773,
          2774,
          2775,
          2776,
          2777,
          2778,
          2779,
          2780,
          2781,
          2782,
          2783,
          2784,
          2785,
          2786,
          2787,
          2788,
          2789,
          2790,
          2791,
          2792,
          2793,
          2794,
          2795,
          2796
         ],
         "y": [
          17459,
          17690,
          17875,
          18103,
          18322,
          18530,
          18744,
          18981,
          19173,
          19427,
          19662,
          19907,
          20221,
          20457,
          20636,
          20810,
          20953,
          21143,
          21427,
          21660,
          21824,
          22079,
          22241,
          22437,
          22655,
          22894,
          23082,
          23315,
          23542,
          23750,
          23968,
          24194,
          24413,
          24621,
          24868,
          25062,
          25282,
          25482,
          25703,
          25897,
          26095,
          26334,
          26482,
          26649,
          26865,
          27127,
          27361,
          27554,
          27741,
          27942,
          28155,
          28347,
          28598,
          28796,
          28993,
          29207,
          29417,
          29655,
          29891,
          30107,
          30266,
          30476,
          30797,
          31054,
          31258,
          31437,
          31643,
          31872,
          32058,
          32265,
          32441,
          32638,
          32873,
          33061,
          33260,
          33427,
          33629,
          33850,
          34045,
          34235,
          34435,
          34594,
          34796,
          34995,
          35239,
          35423,
          35628,
          35792,
          35957,
          36209,
          36454,
          36677,
          36891,
          37073,
          37243,
          37447,
          37607,
          37786,
          37974,
          38206,
          38430,
          38629,
          38823,
          39148,
          39455,
          39740,
          40025,
          40267,
          40523,
          40826,
          41063,
          41299,
          41581,
          41852,
          42165,
          42459,
          42739,
          43038,
          43311,
          43645,
          43954,
          44217,
          44503,
          44781,
          45013,
          45335,
          45586,
          45846,
          46076,
          46266,
          46475,
          46692,
          46907,
          47120,
          47369,
          47639,
          47895,
          48149,
          48354,
          48635,
          48940,
          49179,
          49440,
          49680,
          49933,
          50203,
          50433,
          50670,
          50868,
          51106,
          51341,
          51550,
          51814,
          52074,
          52307,
          52550,
          52774,
          53035,
          53259,
          53457,
          53719,
          53999,
          54309,
          53767,
          52928,
          52594,
          52601,
          52966,
          53275,
          53565,
          53808,
          54031,
          54315,
          54589,
          54903,
          55141,
          55357,
          55590,
          55796,
          56001,
          56229,
          56467,
          56672,
          56916,
          57138,
          57337,
          57584,
          57813,
          58060,
          58296,
          58519,
          58689,
          58914,
          59063,
          59256,
          59452,
          59696,
          59901,
          60090,
          60354,
          60725,
          60957,
          61194,
          61444,
          61752,
          61992,
          62236,
          62501,
          62748,
          62993,
          63228,
          63446,
          63689,
          63924,
          64222,
          64509,
          64796,
          65083,
          65446,
          65737,
          65988,
          66290,
          66576,
          66843,
          67078,
          67380,
          67674,
          67909,
          68114,
          68311,
          68515,
          68772,
          69046,
          69283,
          69539,
          69779,
          70048,
          70282,
          70524,
          70763,
          71160,
          71498,
          72894,
          74023,
          74796,
          75706,
          76919,
          77946,
          79141,
          80324,
          81363,
          82526,
          83515,
          84523,
          84853,
          85182,
          85517,
          85764,
          86056,
          86355,
          86767,
          87229,
          87690,
          88046,
          88399,
          88807,
          89219,
          89662,
          90046,
          90624,
          91140,
          91692,
          92233,
          92695,
          93225,
          93892,
          94551,
          95108,
          95626,
          97022,
          97583,
          98175,
          98730,
          99245,
          99893,
          100419,
          100959,
          101488,
          102046,
          102586,
          103115,
          103699,
          104189,
          104676,
          105166,
          105677,
          106250,
          106852,
          107380,
          107877,
          108456,
          108958,
          109483,
          109989,
          110369,
          110840,
          112147,
          112709,
          113347,
          114029,
          114717,
          115337,
          115642,
          116106,
          116527,
          117019,
          117446,
          118200,
          118832,
          119602,
          120412,
          121033,
          122165,
          122913,
          123740,
          124450,
          125380,
          126189,
          127047,
          127763,
          128547,
          129815,
          130859,
          131943,
          132468,
          132943,
          133801,
          134666,
          135547,
          136316,
          137073,
          137894,
          138662,
          139576,
          140536,
          141815,
          142912,
          144027,
          145242,
          146419,
          147644,
          148924,
          150372,
          151478,
          152692,
          153596,
          155728,
          156829,
          158283,
          159265,
          160147,
          161191,
          162241,
          163244,
          164281,
          165467,
          166532,
          167711,
          168749,
          169911,
          170968,
          172084,
          173433,
          174820,
          176055,
          177379,
          178593,
          179680,
          181091,
          182215,
          183436,
          184614,
          185658,
          186527,
          187479,
          188430,
          189359,
          190248,
          191074,
          191953,
          192861,
          193873,
          194660,
          195447,
          196220,
          197001,
          197835,
          198622,
          199508,
          200365,
          201099,
          201809,
          202734,
          203545,
          204368,
          205265,
          206234,
          207060,
          207777,
          208451,
          209134,
          209812,
          210407,
          211067,
          211799,
          212357,
          212933,
          214096,
          214901,
          215577,
          216286,
          217670,
          219745,
          220947,
          221740,
          222780,
          223002,
          226257,
          227047,
          227831,
          228628,
          229321,
          230024,
          230796,
          231553,
          232248,
          232949,
          233653,
          234303,
          235074,
          235725,
          236309,
          236866,
          237477,
          237991,
          238472,
          239073,
          239635,
          240144,
          240649,
          241114,
          241778,
          242316,
          242818,
          243369,
          243932,
          244358,
          245002,
          245549,
          246043,
          246518,
          247048,
          247531,
          247987,
          248651,
          249129,
          249543,
          250035,
          250486,
          251030,
          252053,
          252637,
          253151,
          253677,
          254365,
          254921,
          255636,
          256192,
          256733,
          257236,
          257839,
          258306,
          258882,
          259341,
          261682,
          263970,
          266894,
          275339,
          281542,
          286872,
          291447,
          296219,
          302558,
          311284,
          318162,
          325327,
          333217,
          340647,
          348691,
          356997,
          365295,
          373280,
          380889,
          389723,
          397503,
          409077,
          421298,
          430979,
          445166,
          460046,
          472210,
          485201,
          497109,
          511260,
          526740,
          541927,
          556143,
          570415,
          586536,
          600099,
          613496,
          625723,
          639099,
          653262,
          665652,
          677053,
          688749,
          700750,
          711553,
          723402,
          733613,
          743833,
          756953,
          767522,
          776876,
          788766,
          799156,
          808089,
          818231,
          827727,
          835985,
          841645,
          848985,
          856280,
          863474,
          869243,
          874257,
          880912,
          886171,
          889072,
          888841,
          888862,
          888930,
          889881,
          892345,
          896884,
          900078,
          903128
         ]
        },
        {
         "mode": "lines",
         "name": "predict",
         "type": "scatter",
         "x": [
          2744,
          2745,
          2746,
          2747,
          2748,
          2749,
          2750,
          2751,
          2752,
          2753,
          2754,
          2755,
          2756,
          2757,
          2758,
          2759,
          2760,
          2761,
          2762,
          2763,
          2764,
          2765,
          2766,
          2767,
          2768,
          2769,
          2770,
          2771,
          2772,
          2773,
          2774,
          2775,
          2776,
          2777,
          2778,
          2779,
          2780,
          2781,
          2782,
          2783,
          2784,
          2785,
          2786,
          2787,
          2788,
          2796
         ],
         "y": [
          398372.18310000096,
          408884.01279388496,
          443404.14778144204,
          448466.1316269996,
          458853.5248201672,
          475237.6303851418,
          506381.1306313836,
          505041.8627066049,
          524792.9808883842,
          521735.86339017213,
          535462.8310558455,
          574010.7147436364,
          573190.6298034525,
          578259.1471181876,
          610619.7657706437,
          620225.3167422154,
          620333.9862191043,
          644883.316824975,
          647397.1745665679,
          663759.6066813999,
          679264.0406503355,
          681332.9661482197,
          706744.3242957422,
          704658.2470279428,
          704948.3067578187,
          742510.337631143,
          745879.6380198502,
          752449.1282370873,
          763022.2977806157,
          765909.0172366606,
          769424.8398530704,
          796457.7702770845,
          796968.6255314695,
          830485.9612552257,
          828905.9061373901,
          831406.8489497856,
          842384.6063867357,
          845991.1362776752,
          847422.390428095,
          847531.3363955448,
          884625.7706861875,
          882540.2085316015,
          892652.2327262142,
          894043.7576491265,
          891295.9157812459,
          901346.95063353
         ]
        }
       ],
       "layout": {
        "height": 600,
        "paper_bgcolor": "rgba(0, 0, 0, 0)",
        "template": {
         "data": {
          "bar": [
           {
            "error_x": {
             "color": "rgb(36,36,36)"
            },
            "error_y": {
             "color": "rgb(36,36,36)"
            },
            "marker": {
             "line": {
              "color": "rgb(234,234,242)",
              "width": 0.5
             },
             "pattern": {
              "fillmode": "overlay",
              "size": 10,
              "solidity": 0.2
             }
            },
            "type": "bar"
           }
          ],
          "barpolar": [
           {
            "marker": {
             "line": {
              "color": "rgb(234,234,242)",
              "width": 0.5
             },
             "pattern": {
              "fillmode": "overlay",
              "size": 10,
              "solidity": 0.2
             }
            },
            "type": "barpolar"
           }
          ],
          "carpet": [
           {
            "aaxis": {
             "endlinecolor": "rgb(36,36,36)",
             "gridcolor": "white",
             "linecolor": "white",
             "minorgridcolor": "white",
             "startlinecolor": "rgb(36,36,36)"
            },
            "baxis": {
             "endlinecolor": "rgb(36,36,36)",
             "gridcolor": "white",
             "linecolor": "white",
             "minorgridcolor": "white",
             "startlinecolor": "rgb(36,36,36)"
            },
            "type": "carpet"
           }
          ],
          "choropleth": [
           {
            "colorbar": {
             "outlinewidth": 0,
             "tickcolor": "rgb(36,36,36)",
             "ticklen": 8,
             "ticks": "outside",
             "tickwidth": 2
            },
            "type": "choropleth"
           }
          ],
          "contour": [
           {
            "colorbar": {
             "outlinewidth": 0,
             "tickcolor": "rgb(36,36,36)",
             "ticklen": 8,
             "ticks": "outside",
             "tickwidth": 2
            },
            "colorscale": [
             [
              0,
              "rgb(2,4,25)"
             ],
             [
              0.06274509803921569,
              "rgb(24,15,41)"
             ],
             [
              0.12549019607843137,
              "rgb(47,23,57)"
             ],
             [
              0.18823529411764706,
              "rgb(71,28,72)"
             ],
             [
              0.25098039215686274,
              "rgb(97,30,82)"
             ],
             [
              0.3137254901960784,
              "rgb(123,30,89)"
             ],
             [
              0.3764705882352941,
              "rgb(150,27,91)"
             ],
             [
              0.4392156862745098,
              "rgb(177,22,88)"
             ],
             [
              0.5019607843137255,
              "rgb(203,26,79)"
             ],
             [
              0.5647058823529412,
              "rgb(223,47,67)"
             ],
             [
              0.6274509803921569,
              "rgb(236,76,61)"
             ],
             [
              0.6901960784313725,
              "rgb(242,107,73)"
             ],
             [
              0.7529411764705882,
              "rgb(244,135,95)"
             ],
             [
              0.8156862745098039,
              "rgb(245,162,122)"
             ],
             [
              0.8784313725490196,
              "rgb(246,188,153)"
             ],
             [
              0.9411764705882353,
              "rgb(247,212,187)"
             ],
             [
              1,
              "rgb(250,234,220)"
             ]
            ],
            "type": "contour"
           }
          ],
          "contourcarpet": [
           {
            "colorbar": {
             "outlinewidth": 0,
             "tickcolor": "rgb(36,36,36)",
             "ticklen": 8,
             "ticks": "outside",
             "tickwidth": 2
            },
            "type": "contourcarpet"
           }
          ],
          "heatmap": [
           {
            "colorbar": {
             "outlinewidth": 0,
             "tickcolor": "rgb(36,36,36)",
             "ticklen": 8,
             "ticks": "outside",
             "tickwidth": 2
            },
            "colorscale": [
             [
              0,
              "rgb(2,4,25)"
             ],
             [
              0.06274509803921569,
              "rgb(24,15,41)"
             ],
             [
              0.12549019607843137,
              "rgb(47,23,57)"
             ],
             [
              0.18823529411764706,
              "rgb(71,28,72)"
             ],
             [
              0.25098039215686274,
              "rgb(97,30,82)"
             ],
             [
              0.3137254901960784,
              "rgb(123,30,89)"
             ],
             [
              0.3764705882352941,
              "rgb(150,27,91)"
             ],
             [
              0.4392156862745098,
              "rgb(177,22,88)"
             ],
             [
              0.5019607843137255,
              "rgb(203,26,79)"
             ],
             [
              0.5647058823529412,
              "rgb(223,47,67)"
             ],
             [
              0.6274509803921569,
              "rgb(236,76,61)"
             ],
             [
              0.6901960784313725,
              "rgb(242,107,73)"
             ],
             [
              0.7529411764705882,
              "rgb(244,135,95)"
             ],
             [
              0.8156862745098039,
              "rgb(245,162,122)"
             ],
             [
              0.8784313725490196,
              "rgb(246,188,153)"
             ],
             [
              0.9411764705882353,
              "rgb(247,212,187)"
             ],
             [
              1,
              "rgb(250,234,220)"
             ]
            ],
            "type": "heatmap"
           }
          ],
          "heatmapgl": [
           {
            "colorbar": {
             "outlinewidth": 0,
             "tickcolor": "rgb(36,36,36)",
             "ticklen": 8,
             "ticks": "outside",
             "tickwidth": 2
            },
            "colorscale": [
             [
              0,
              "rgb(2,4,25)"
             ],
             [
              0.06274509803921569,
              "rgb(24,15,41)"
             ],
             [
              0.12549019607843137,
              "rgb(47,23,57)"
             ],
             [
              0.18823529411764706,
              "rgb(71,28,72)"
             ],
             [
              0.25098039215686274,
              "rgb(97,30,82)"
             ],
             [
              0.3137254901960784,
              "rgb(123,30,89)"
             ],
             [
              0.3764705882352941,
              "rgb(150,27,91)"
             ],
             [
              0.4392156862745098,
              "rgb(177,22,88)"
             ],
             [
              0.5019607843137255,
              "rgb(203,26,79)"
             ],
             [
              0.5647058823529412,
              "rgb(223,47,67)"
             ],
             [
              0.6274509803921569,
              "rgb(236,76,61)"
             ],
             [
              0.6901960784313725,
              "rgb(242,107,73)"
             ],
             [
              0.7529411764705882,
              "rgb(244,135,95)"
             ],
             [
              0.8156862745098039,
              "rgb(245,162,122)"
             ],
             [
              0.8784313725490196,
              "rgb(246,188,153)"
             ],
             [
              0.9411764705882353,
              "rgb(247,212,187)"
             ],
             [
              1,
              "rgb(250,234,220)"
             ]
            ],
            "type": "heatmapgl"
           }
          ],
          "histogram": [
           {
            "marker": {
             "pattern": {
              "fillmode": "overlay",
              "size": 10,
              "solidity": 0.2
             }
            },
            "type": "histogram"
           }
          ],
          "histogram2d": [
           {
            "colorbar": {
             "outlinewidth": 0,
             "tickcolor": "rgb(36,36,36)",
             "ticklen": 8,
             "ticks": "outside",
             "tickwidth": 2
            },
            "colorscale": [
             [
              0,
              "rgb(2,4,25)"
             ],
             [
              0.06274509803921569,
              "rgb(24,15,41)"
             ],
             [
              0.12549019607843137,
              "rgb(47,23,57)"
             ],
             [
              0.18823529411764706,
              "rgb(71,28,72)"
             ],
             [
              0.25098039215686274,
              "rgb(97,30,82)"
             ],
             [
              0.3137254901960784,
              "rgb(123,30,89)"
             ],
             [
              0.3764705882352941,
              "rgb(150,27,91)"
             ],
             [
              0.4392156862745098,
              "rgb(177,22,88)"
             ],
             [
              0.5019607843137255,
              "rgb(203,26,79)"
             ],
             [
              0.5647058823529412,
              "rgb(223,47,67)"
             ],
             [
              0.6274509803921569,
              "rgb(236,76,61)"
             ],
             [
              0.6901960784313725,
              "rgb(242,107,73)"
             ],
             [
              0.7529411764705882,
              "rgb(244,135,95)"
             ],
             [
              0.8156862745098039,
              "rgb(245,162,122)"
             ],
             [
              0.8784313725490196,
              "rgb(246,188,153)"
             ],
             [
              0.9411764705882353,
              "rgb(247,212,187)"
             ],
             [
              1,
              "rgb(250,234,220)"
             ]
            ],
            "type": "histogram2d"
           }
          ],
          "histogram2dcontour": [
           {
            "colorbar": {
             "outlinewidth": 0,
             "tickcolor": "rgb(36,36,36)",
             "ticklen": 8,
             "ticks": "outside",
             "tickwidth": 2
            },
            "colorscale": [
             [
              0,
              "rgb(2,4,25)"
             ],
             [
              0.06274509803921569,
              "rgb(24,15,41)"
             ],
             [
              0.12549019607843137,
              "rgb(47,23,57)"
             ],
             [
              0.18823529411764706,
              "rgb(71,28,72)"
             ],
             [
              0.25098039215686274,
              "rgb(97,30,82)"
             ],
             [
              0.3137254901960784,
              "rgb(123,30,89)"
             ],
             [
              0.3764705882352941,
              "rgb(150,27,91)"
             ],
             [
              0.4392156862745098,
              "rgb(177,22,88)"
             ],
             [
              0.5019607843137255,
              "rgb(203,26,79)"
             ],
             [
              0.5647058823529412,
              "rgb(223,47,67)"
             ],
             [
              0.6274509803921569,
              "rgb(236,76,61)"
             ],
             [
              0.6901960784313725,
              "rgb(242,107,73)"
             ],
             [
              0.7529411764705882,
              "rgb(244,135,95)"
             ],
             [
              0.8156862745098039,
              "rgb(245,162,122)"
             ],
             [
              0.8784313725490196,
              "rgb(246,188,153)"
             ],
             [
              0.9411764705882353,
              "rgb(247,212,187)"
             ],
             [
              1,
              "rgb(250,234,220)"
             ]
            ],
            "type": "histogram2dcontour"
           }
          ],
          "mesh3d": [
           {
            "colorbar": {
             "outlinewidth": 0,
             "tickcolor": "rgb(36,36,36)",
             "ticklen": 8,
             "ticks": "outside",
             "tickwidth": 2
            },
            "type": "mesh3d"
           }
          ],
          "parcoords": [
           {
            "line": {
             "colorbar": {
              "outlinewidth": 0,
              "tickcolor": "rgb(36,36,36)",
              "ticklen": 8,
              "ticks": "outside",
              "tickwidth": 2
             }
            },
            "type": "parcoords"
           }
          ],
          "pie": [
           {
            "automargin": true,
            "type": "pie"
           }
          ],
          "scatter": [
           {
            "fillpattern": {
             "fillmode": "overlay",
             "size": 10,
             "solidity": 0.2
            },
            "type": "scatter"
           }
          ],
          "scatter3d": [
           {
            "line": {
             "colorbar": {
              "outlinewidth": 0,
              "tickcolor": "rgb(36,36,36)",
              "ticklen": 8,
              "ticks": "outside",
              "tickwidth": 2
             }
            },
            "marker": {
             "colorbar": {
              "outlinewidth": 0,
              "tickcolor": "rgb(36,36,36)",
              "ticklen": 8,
              "ticks": "outside",
              "tickwidth": 2
             }
            },
            "type": "scatter3d"
           }
          ],
          "scattercarpet": [
           {
            "marker": {
             "colorbar": {
              "outlinewidth": 0,
              "tickcolor": "rgb(36,36,36)",
              "ticklen": 8,
              "ticks": "outside",
              "tickwidth": 2
             }
            },
            "type": "scattercarpet"
           }
          ],
          "scattergeo": [
           {
            "marker": {
             "colorbar": {
              "outlinewidth": 0,
              "tickcolor": "rgb(36,36,36)",
              "ticklen": 8,
              "ticks": "outside",
              "tickwidth": 2
             }
            },
            "type": "scattergeo"
           }
          ],
          "scattergl": [
           {
            "marker": {
             "colorbar": {
              "outlinewidth": 0,
              "tickcolor": "rgb(36,36,36)",
              "ticklen": 8,
              "ticks": "outside",
              "tickwidth": 2
             }
            },
            "type": "scattergl"
           }
          ],
          "scattermapbox": [
           {
            "marker": {
             "colorbar": {
              "outlinewidth": 0,
              "tickcolor": "rgb(36,36,36)",
              "ticklen": 8,
              "ticks": "outside",
              "tickwidth": 2
             }
            },
            "type": "scattermapbox"
           }
          ],
          "scatterpolar": [
           {
            "marker": {
             "colorbar": {
              "outlinewidth": 0,
              "tickcolor": "rgb(36,36,36)",
              "ticklen": 8,
              "ticks": "outside",
              "tickwidth": 2
             }
            },
            "type": "scatterpolar"
           }
          ],
          "scatterpolargl": [
           {
            "marker": {
             "colorbar": {
              "outlinewidth": 0,
              "tickcolor": "rgb(36,36,36)",
              "ticklen": 8,
              "ticks": "outside",
              "tickwidth": 2
             }
            },
            "type": "scatterpolargl"
           }
          ],
          "scatterternary": [
           {
            "marker": {
             "colorbar": {
              "outlinewidth": 0,
              "tickcolor": "rgb(36,36,36)",
              "ticklen": 8,
              "ticks": "outside",
              "tickwidth": 2
             }
            },
            "type": "scatterternary"
           }
          ],
          "surface": [
           {
            "colorbar": {
             "outlinewidth": 0,
             "tickcolor": "rgb(36,36,36)",
             "ticklen": 8,
             "ticks": "outside",
             "tickwidth": 2
            },
            "colorscale": [
             [
              0,
              "rgb(2,4,25)"
             ],
             [
              0.06274509803921569,
              "rgb(24,15,41)"
             ],
             [
              0.12549019607843137,
              "rgb(47,23,57)"
             ],
             [
              0.18823529411764706,
              "rgb(71,28,72)"
             ],
             [
              0.25098039215686274,
              "rgb(97,30,82)"
             ],
             [
              0.3137254901960784,
              "rgb(123,30,89)"
             ],
             [
              0.3764705882352941,
              "rgb(150,27,91)"
             ],
             [
              0.4392156862745098,
              "rgb(177,22,88)"
             ],
             [
              0.5019607843137255,
              "rgb(203,26,79)"
             ],
             [
              0.5647058823529412,
              "rgb(223,47,67)"
             ],
             [
              0.6274509803921569,
              "rgb(236,76,61)"
             ],
             [
              0.6901960784313725,
              "rgb(242,107,73)"
             ],
             [
              0.7529411764705882,
              "rgb(244,135,95)"
             ],
             [
              0.8156862745098039,
              "rgb(245,162,122)"
             ],
             [
              0.8784313725490196,
              "rgb(246,188,153)"
             ],
             [
              0.9411764705882353,
              "rgb(247,212,187)"
             ],
             [
              1,
              "rgb(250,234,220)"
             ]
            ],
            "type": "surface"
           }
          ],
          "table": [
           {
            "cells": {
             "fill": {
              "color": "rgb(231,231,240)"
             },
             "line": {
              "color": "white"
             }
            },
            "header": {
             "fill": {
              "color": "rgb(183,183,191)"
             },
             "line": {
              "color": "white"
             }
            },
            "type": "table"
           }
          ]
         },
         "layout": {
          "annotationdefaults": {
           "arrowcolor": "rgb(67,103,167)"
          },
          "autotypenumbers": "strict",
          "coloraxis": {
           "colorbar": {
            "outlinewidth": 0,
            "tickcolor": "rgb(36,36,36)",
            "ticklen": 8,
            "ticks": "outside",
            "tickwidth": 2
           }
          },
          "colorscale": {
           "sequential": [
            [
             0,
             "rgb(2,4,25)"
            ],
            [
             0.06274509803921569,
             "rgb(24,15,41)"
            ],
            [
             0.12549019607843137,
             "rgb(47,23,57)"
            ],
            [
             0.18823529411764706,
             "rgb(71,28,72)"
            ],
            [
             0.25098039215686274,
             "rgb(97,30,82)"
            ],
            [
             0.3137254901960784,
             "rgb(123,30,89)"
            ],
            [
             0.3764705882352941,
             "rgb(150,27,91)"
            ],
            [
             0.4392156862745098,
             "rgb(177,22,88)"
            ],
            [
             0.5019607843137255,
             "rgb(203,26,79)"
            ],
            [
             0.5647058823529412,
             "rgb(223,47,67)"
            ],
            [
             0.6274509803921569,
             "rgb(236,76,61)"
            ],
            [
             0.6901960784313725,
             "rgb(242,107,73)"
            ],
            [
             0.7529411764705882,
             "rgb(244,135,95)"
            ],
            [
             0.8156862745098039,
             "rgb(245,162,122)"
            ],
            [
             0.8784313725490196,
             "rgb(246,188,153)"
            ],
            [
             0.9411764705882353,
             "rgb(247,212,187)"
            ],
            [
             1,
             "rgb(250,234,220)"
            ]
           ],
           "sequentialminus": [
            [
             0,
             "rgb(2,4,25)"
            ],
            [
             0.06274509803921569,
             "rgb(24,15,41)"
            ],
            [
             0.12549019607843137,
             "rgb(47,23,57)"
            ],
            [
             0.18823529411764706,
             "rgb(71,28,72)"
            ],
            [
             0.25098039215686274,
             "rgb(97,30,82)"
            ],
            [
             0.3137254901960784,
             "rgb(123,30,89)"
            ],
            [
             0.3764705882352941,
             "rgb(150,27,91)"
            ],
            [
             0.4392156862745098,
             "rgb(177,22,88)"
            ],
            [
             0.5019607843137255,
             "rgb(203,26,79)"
            ],
            [
             0.5647058823529412,
             "rgb(223,47,67)"
            ],
            [
             0.6274509803921569,
             "rgb(236,76,61)"
            ],
            [
             0.6901960784313725,
             "rgb(242,107,73)"
            ],
            [
             0.7529411764705882,
             "rgb(244,135,95)"
            ],
            [
             0.8156862745098039,
             "rgb(245,162,122)"
            ],
            [
             0.8784313725490196,
             "rgb(246,188,153)"
            ],
            [
             0.9411764705882353,
             "rgb(247,212,187)"
            ],
            [
             1,
             "rgb(250,234,220)"
            ]
           ]
          },
          "colorway": [
           "rgb(76,114,176)",
           "rgb(221,132,82)",
           "rgb(85,168,104)",
           "rgb(196,78,82)",
           "rgb(129,114,179)",
           "rgb(147,120,96)",
           "rgb(218,139,195)",
           "rgb(140,140,140)",
           "rgb(204,185,116)",
           "rgb(100,181,205)"
          ],
          "font": {
           "color": "rgb(36,36,36)"
          },
          "geo": {
           "bgcolor": "white",
           "lakecolor": "white",
           "landcolor": "rgb(234,234,242)",
           "showlakes": true,
           "showland": true,
           "subunitcolor": "white"
          },
          "hoverlabel": {
           "align": "left"
          },
          "hovermode": "closest",
          "paper_bgcolor": "white",
          "plot_bgcolor": "rgb(234,234,242)",
          "polar": {
           "angularaxis": {
            "gridcolor": "white",
            "linecolor": "white",
            "showgrid": true,
            "ticks": ""
           },
           "bgcolor": "rgb(234,234,242)",
           "radialaxis": {
            "gridcolor": "white",
            "linecolor": "white",
            "showgrid": true,
            "ticks": ""
           }
          },
          "scene": {
           "xaxis": {
            "backgroundcolor": "rgb(234,234,242)",
            "gridcolor": "white",
            "gridwidth": 2,
            "linecolor": "white",
            "showbackground": true,
            "showgrid": true,
            "ticks": "",
            "zerolinecolor": "white"
           },
           "yaxis": {
            "backgroundcolor": "rgb(234,234,242)",
            "gridcolor": "white",
            "gridwidth": 2,
            "linecolor": "white",
            "showbackground": true,
            "showgrid": true,
            "ticks": "",
            "zerolinecolor": "white"
           },
           "zaxis": {
            "backgroundcolor": "rgb(234,234,242)",
            "gridcolor": "white",
            "gridwidth": 2,
            "linecolor": "white",
            "showbackground": true,
            "showgrid": true,
            "ticks": "",
            "zerolinecolor": "white"
           }
          },
          "shapedefaults": {
           "fillcolor": "rgb(67,103,167)",
           "line": {
            "width": 0
           },
           "opacity": 0.5
          },
          "ternary": {
           "aaxis": {
            "gridcolor": "white",
            "linecolor": "white",
            "showgrid": true,
            "ticks": ""
           },
           "baxis": {
            "gridcolor": "white",
            "linecolor": "white",
            "showgrid": true,
            "ticks": ""
           },
           "bgcolor": "rgb(234,234,242)",
           "caxis": {
            "gridcolor": "white",
            "linecolor": "white",
            "showgrid": true,
            "ticks": ""
           }
          },
          "xaxis": {
           "automargin": true,
           "gridcolor": "white",
           "linecolor": "white",
           "showgrid": true,
           "ticks": "",
           "title": {
            "standoff": 15
           },
           "zerolinecolor": "white"
          },
          "yaxis": {
           "automargin": true,
           "gridcolor": "white",
           "linecolor": "white",
           "showgrid": true,
           "ticks": "",
           "title": {
            "standoff": 15
           },
           "zerolinecolor": "white"
          }
         }
        },
        "title": {
         "text": "r\\electronics",
         "x": 0.5
        },
        "width": 1200,
        "xaxis": {
         "autorange": true,
         "range": [
          2234,
          2796
         ],
         "title": {
          "text": "#Week"
         },
         "type": "linear"
        },
        "yaxis": {
         "autorange": true,
         "range": [
          -31744.83333333333,
          952331.8333333334
         ],
         "title": {
          "text": "#Subscribers"
         },
         "type": "linear"
        }
       }
      },
      "image/png": "[encoded data removed]",
      "text/html": [
       "<div>                            <div id=\"4745c37b-49a5-4d06-9f3b-0e4218eaf712\" class=\"plotly-graph-div\" style=\"height:600px; width:1200px;\"></div>            <script type=\"text/javascript\">                require([\"plotly\"], function(Plotly) {                    window.PLOTLYENV=window.PLOTLYENV || {};                                    if (document.getElementById(\"4745c37b-49a5-4d06-9f3b-0e4218eaf712\")) {                    Plotly.newPlot(                        \"4745c37b-49a5-4d06-9f3b-0e4218eaf712\",                        [{\"mode\":\"lines\",\"name\":\"real\",\"x\":[2234,2235,2236,2237,2238,2239,2240,2241,2242,2243,2244,2245,2246,2247,2248,2249,2250,2251,2252,2253,2254,2255,2256,2257,2258,2259,2260,2261,2262,2263,2264,2265,2266,2267,2268,2269,2270,2271,2272,2273,2274,2275,2276,2277,2278,2279,2280,2281,2282,2283,2284,2285,2286,2287,2288,2289,2290,2291,2292,2293,2294,2295,2296,2297,2298,2299,2300,2301,2302,2303,2304,2305,2306,2307,2308,2309,2310,2311,2312,2313,2314,2315,2316,2317,2318,2319,2320,2321,2322,2323,2324,2325,2326,2327,2328,2329,2330,2331,2332,2333,2334,2335,2336,2337,2338,2339,2340,2341,2342,2343,2344,2345,2346,2347,2348,2349,2350,2351,2352,2353,2354,2355,2356,2357,2358,2359,2360,2361,2362,2363,2364,2365,2366,2367,2368,2369,2370,2371,2372,2373,2374,2375,2376,2377,2378,2379,2380,2381,2382,2383,2384,2385,2386,2387,2388,2389,2390,2391,2392,2393,2394,2395,2396,2397,2398,2399,2400,2401,2402,2403,2404,2405,2406,2407,2408,2409,2410,2411,2412,2413,2414,2415,2416,2417,2418,2419,2420,2421,2422,2423,2424,2425,2426,2427,2428,2429,2430,2431,2432,2433,2434,2435,2436,2437,2438,2439,2440,2441,2442,2443,2444,2445,2446,2447,2448,2449,2450,2451,2452,2453,2454,2455,2456,2457,2458,2459,2460,2461,2462,2463,2464,2465,2466,2467,2468,2469,2470,2471,2472,2473,2474,2475,2476,2477,2478,2479,2480,2481,2482,2483,2484,2485,2486,2487,2488,2489,2490,2491,2492,2493,2494,2495,2496,2497,2498,2499,2500,2501,2502,2503,2504,2505,2506,2507,2508,2509,2510,2511,2512,2514,2515,2516,2517,2518,2519,2520,2521,2522,2523,2524,2525,2526,2527,2528,2529,2530,2531,2532,2533,2534,2535,2536,2537,2538,2539,2540,2542,2543,2544,2545,2546,2547,2548,2549,2550,2551,2552,2553,2554,2555,2556,2557,2558,2559,2560,2561,2562,2563,2564,2565,2566,2567,2568,2569,2570,2571,2572,2573,2574,2575,2576,2577,2578,2579,2580,2581,2582,2583,2584,2585,2586,2587,2588,2589,2590,2591,2592,2593,2594,2595,2596,2597,2598,2599,2600,2601,2602,2603,2604,2605,2606,2607,2608,2609,2610,2611,2612,2613,2614,2615,2616,2617,2618,2619,2620,2621,2622,2623,2624,2625,2626,2627,2628,2629,2630,2631,2632,2633,2634,2635,2636,2637,2638,2639,2640,2641,2642,2643,2644,2645,2646,2647,2648,2649,2650,2651,2652,2653,2654,2655,2656,2658,2659,2660,2661,2662,2663,2666,2667,2668,2669,2670,2671,2672,2673,2674,2675,2676,2677,2678,2679,2680,2681,2682,2683,2684,2685,2686,2687,2688,2689,2690,2691,2692,2693,2694,2695,2696,2697,2698,2699,2700,2701,2702,2703,2704,2705,2706,2707,2708,2709,2710,2711,2712,2713,2714,2715,2716,2717,2718,2719,2720,2721,2722,2723,2724,2725,2726,2727,2728,2729,2730,2731,2732,2733,2734,2735,2736,2737,2738,2739,2740,2741,2742,2743,2744,2745,2746,2747,2748,2749,2750,2751,2752,2753,2754,2755,2756,2757,2758,2759,2760,2761,2762,2763,2764,2765,2766,2767,2768,2769,2770,2771,2772,2773,2774,2775,2776,2777,2778,2779,2780,2781,2782,2783,2784,2785,2786,2787,2788,2789,2790,2791,2792,2793,2794,2795,2796],\"y\":[17459,17690,17875,18103,18322,18530,18744,18981,19173,19427,19662,19907,20221,20457,20636,20810,20953,21143,21427,21660,21824,22079,22241,22437,22655,22894,23082,23315,23542,23750,23968,24194,24413,24621,24868,25062,25282,25482,25703,25897,26095,26334,26482,26649,26865,27127,27361,27554,27741,27942,28155,28347,28598,28796,28993,29207,29417,29655,29891,30107,30266,30476,30797,31054,31258,31437,31643,31872,32058,32265,32441,32638,32873,33061,33260,33427,33629,33850,34045,34235,34435,34594,34796,34995,35239,35423,35628,35792,35957,36209,36454,36677,36891,37073,37243,37447,37607,37786,37974,38206,38430,38629,38823,39148,39455,39740,40025,40267,40523,40826,41063,41299,41581,41852,42165,42459,42739,43038,43311,43645,43954,44217,44503,44781,45013,45335,45586,45846,46076,46266,46475,46692,46907,47120,47369,47639,47895,48149,48354,48635,48940,49179,49440,49680,49933,50203,50433,50670,50868,51106,51341,51550,51814,52074,52307,52550,52774,53035,53259,53457,53719,53999,54309,53767,52928,52594,52601,52966,53275,53565,53808,54031,54315,54589,54903,55141,55357,55590,55796,56001,56229,56467,56672,56916,57138,57337,57584,57813,58060,58296,58519,58689,58914,59063,59256,59452,59696,59901,60090,60354,60725,60957,61194,61444,61752,61992,62236,62501,62748,62993,63228,63446,63689,63924,64222,64509,64796,65083,65446,65737,65988,66290,66576,66843,67078,67380,67674,67909,68114,68311,68515,68772,69046,69283,69539,69779,70048,70282,70524,70763,71160,71498,72894,74023,74796,75706,76919,77946,79141,80324,81363,82526,83515,84523,84853,85182,85517,85764,86056,86355,86767,87229,87690,88046,88399,88807,89219,89662,90046,90624,91140,91692,92233,92695,93225,93892,94551,95108,95626,97022,97583,98175,98730,99245,99893,100419,100959,101488,102046,102586,103115,103699,104189,104676,105166,105677,106250,106852,107380,107877,108456,108958,109483,109989,110369,110840,112147,112709,113347,114029,114717,115337,115642,116106,116527,117019,117446,118200,118832,119602,120412,121033,122165,122913,123740,124450,125380,126189,127047,127763,128547,129815,130859,131943,132468,132943,133801,134666,135547,136316,137073,137894,138662,139576,140536,141815,142912,144027,145242,146419,147644,148924,150372,151478,152692,153596,155728,156829,158283,159265,160147,161191,162241,163244,164281,165467,166532,167711,168749,169911,170968,172084,173433,174820,176055,177379,178593,179680,181091,182215,183436,184614,185658,186527,187479,188430,189359,190248,191074,191953,192861,193873,194660,195447,196220,197001,197835,198622,199508,200365,201099,201809,202734,203545,204368,205265,206234,207060,207777,208451,209134,209812,210407,211067,211799,212357,212933,214096,214901,215577,216286,217670,219745,220947,221740,222780,223002,226257,227047,227831,228628,229321,230024,230796,231553,232248,232949,233653,234303,235074,235725,236309,236866,237477,237991,238472,239073,239635,240144,240649,241114,241778,242316,242818,243369,243932,244358,245002,245549,246043,246518,247048,247531,247987,248651,249129,249543,250035,250486,251030,252053,252637,253151,253677,254365,254921,255636,256192,256733,257236,257839,258306,258882,259341,261682,263970,266894,275339,281542,286872,291447,296219,302558,311284,318162,325327,333217,340647,348691,356997,365295,373280,380889,389723,397503,409077,421298,430979,445166,460046,472210,485201,497109,511260,526740,541927,556143,570415,586536,600099,613496,625723,639099,653262,665652,677053,688749,700750,711553,723402,733613,743833,756953,767522,776876,788766,799156,808089,818231,827727,835985,841645,848985,856280,863474,869243,874257,880912,886171,889072,888841,888862,888930,889881,892345,896884,900078,903128],\"type\":\"scatter\"},{\"mode\":\"lines\",\"name\":\"predict\",\"x\":[2744.0,2745.0,2746.0,2747.0,2748.0,2749.0,2750.0,2751.0,2752.0,2753.0,2754.0,2755.0,2756.0,2757.0,2758.0,2759.0,2760.0,2761.0,2762.0,2763.0,2764.0,2765.0,2766.0,2767.0,2768.0,2769.0,2770.0,2771.0,2772.0,2773.0,2774.0,2775.0,2776.0,2777.0,2778.0,2779.0,2780.0,2781.0,2782.0,2783.0,2784.0,2785.0,2786.0,2787.0,2788.0,2796.0],\"y\":[398372.18310000096,408884.01279388496,443404.14778144204,448466.1316269996,458853.5248201672,475237.6303851418,506381.1306313836,505041.8627066049,524792.9808883842,521735.86339017213,535462.8310558455,574010.7147436364,573190.6298034525,578259.1471181876,610619.7657706437,620225.3167422154,620333.9862191043,644883.316824975,647397.1745665679,663759.6066813999,679264.0406503355,681332.9661482197,706744.3242957422,704658.2470279428,704948.3067578187,742510.337631143,745879.6380198502,752449.1282370873,763022.2977806157,765909.0172366606,769424.8398530704,796457.7702770845,796968.6255314695,830485.9612552257,828905.9061373901,831406.8489497856,842384.6063867357,845991.1362776752,847422.390428095,847531.3363955448,884625.7706861875,882540.2085316015,892652.2327262142,894043.7576491265,891295.9157812459,901346.95063353],\"type\":\"scatter\"}],                        {\"template\":{\"data\":{\"barpolar\":[{\"marker\":{\"line\":{\"color\":\"rgb(234,234,242)\",\"width\":0.5},\"pattern\":{\"fillmode\":\"overlay\",\"size\":10,\"solidity\":0.2}},\"type\":\"barpolar\"}],\"bar\":[{\"error_x\":{\"color\":\"rgb(36,36,36)\"},\"error_y\":{\"color\":\"rgb(36,36,36)\"},\"marker\":{\"line\":{\"color\":\"rgb(234,234,242)\",\"width\":0.5},\"pattern\":{\"fillmode\":\"overlay\",\"size\":10,\"solidity\":0.2}},\"type\":\"bar\"}],\"carpet\":[{\"aaxis\":{\"endlinecolor\":\"rgb(36,36,36)\",\"gridcolor\":\"white\",\"linecolor\":\"white\",\"minorgridcolor\":\"white\",\"startlinecolor\":\"rgb(36,36,36)\"},\"baxis\":{\"endlinecolor\":\"rgb(36,36,36)\",\"gridcolor\":\"white\",\"linecolor\":\"white\",\"minorgridcolor\":\"white\",\"startlinecolor\":\"rgb(36,36,36)\"},\"type\":\"carpet\"}],\"choropleth\":[{\"colorbar\":{\"outlinewidth\":0,\"tickcolor\":\"rgb(36,36,36)\",\"ticklen\":8,\"ticks\":\"outside\",\"tickwidth\":2},\"type\":\"choropleth\"}],\"contourcarpet\":[{\"colorbar\":{\"outlinewidth\":0,\"tickcolor\":\"rgb(36,36,36)\",\"ticklen\":8,\"ticks\":\"outside\",\"tickwidth\":2},\"type\":\"contourcarpet\"}],\"contour\":[{\"colorbar\":{\"outlinewidth\":0,\"tickcolor\":\"rgb(36,36,36)\",\"ticklen\":8,\"ticks\":\"outside\",\"tickwidth\":2},\"colorscale\":[[0.0,\"rgb(2,4,25)\"],[0.06274509803921569,\"rgb(24,15,41)\"],[0.12549019607843137,\"rgb(47,23,57)\"],[0.18823529411764706,\"rgb(71,28,72)\"],[0.25098039215686274,\"rgb(97,30,82)\"],[0.3137254901960784,\"rgb(123,30,89)\"],[0.3764705882352941,\"rgb(150,27,91)\"],[0.4392156862745098,\"rgb(177,22,88)\"],[0.5019607843137255,\"rgb(203,26,79)\"],[0.5647058823529412,\"rgb(223,47,67)\"],[0.6274509803921569,\"rgb(236,76,61)\"],[0.6901960784313725,\"rgb(242,107,73)\"],[0.7529411764705882,\"rgb(244,135,95)\"],[0.8156862745098039,\"rgb(245,162,122)\"],[0.8784313725490196,\"rgb(246,188,153)\"],[0.9411764705882353,\"rgb(247,212,187)\"],[1.0,\"rgb(250,234,220)\"]],\"type\":\"contour\"}],\"heatmapgl\":[{\"colorbar\":{\"outlinewidth\":0,\"tickcolor\":\"rgb(36,36,36)\",\"ticklen\":8,\"ticks\":\"outside\",\"tickwidth\":2},\"colorscale\":[[0.0,\"rgb(2,4,25)\"],[0.06274509803921569,\"rgb(24,15,41)\"],[0.12549019607843137,\"rgb(47,23,57)\"],[0.18823529411764706,\"rgb(71,28,72)\"],[0.25098039215686274,\"rgb(97,30,82)\"],[0.3137254901960784,\"rgb(123,30,89)\"],[0.3764705882352941,\"rgb(150,27,91)\"],[0.4392156862745098,\"rgb(177,22,88)\"],[0.5019607843137255,\"rgb(203,26,79)\"],[0.5647058823529412,\"rgb(223,47,67)\"],[0.6274509803921569,\"rgb(236,76,61)\"],[0.6901960784313725,\"rgb(242,107,73)\"],[0.7529411764705882,\"rgb(244,135,95)\"],[0.8156862745098039,\"rgb(245,162,122)\"],[0.8784313725490196,\"rgb(246,188,153)\"],[0.9411764705882353,\"rgb(247,212,187)\"],[1.0,\"rgb(250,234,220)\"]],\"type\":\"heatmapgl\"}],\"heatmap\":[{\"colorbar\":{\"outlinewidth\":0,\"tickcolor\":\"rgb(36,36,36)\",\"ticklen\":8,\"ticks\":\"outside\",\"tickwidth\":2},\"colorscale\":[[0.0,\"rgb(2,4,25)\"],[0.06274509803921569,\"rgb(24,15,41)\"],[0.12549019607843137,\"rgb(47,23,57)\"],[0.18823529411764706,\"rgb(71,28,72)\"],[0.25098039215686274,\"rgb(97,30,82)\"],[0.3137254901960784,\"rgb(123,30,89)\"],[0.3764705882352941,\"rgb(150,27,91)\"],[0.4392156862745098,\"rgb(177,22,88)\"],[0.5019607843137255,\"rgb(203,26,79)\"],[0.5647058823529412,\"rgb(223,47,67)\"],[0.6274509803921569,\"rgb(236,76,61)\"],[0.6901960784313725,\"rgb(242,107,73)\"],[0.7529411764705882,\"rgb(244,135,95)\"],[0.8156862745098039,\"rgb(245,162,122)\"],[0.8784313725490196,\"rgb(246,188,153)\"],[0.9411764705882353,\"rgb(247,212,187)\"],[1.0,\"rgb(250,234,220)\"]],\"type\":\"heatmap\"}],\"histogram2dcontour\":[{\"colorbar\":{\"outlinewidth\":0,\"tickcolor\":\"rgb(36,36,36)\",\"ticklen\":8,\"ticks\":\"outside\",\"tickwidth\":2},\"colorscale\":[[0.0,\"rgb(2,4,25)\"],[0.06274509803921569,\"rgb(24,15,41)\"],[0.12549019607843137,\"rgb(47,23,57)\"],[0.18823529411764706,\"rgb(71,28,72)\"],[0.25098039215686274,\"rgb(97,30,82)\"],[0.3137254901960784,\"rgb(123,30,89)\"],[0.3764705882352941,\"rgb(150,27,91)\"],[0.4392156862745098,\"rgb(177,22,88)\"],[0.5019607843137255,\"rgb(203,26,79)\"],[0.5647058823529412,\"rgb(223,47,67)\"],[0.6274509803921569,\"rgb(236,76,61)\"],[0.6901960784313725,\"rgb(242,107,73)\"],[0.7529411764705882,\"rgb(244,135,95)\"],[0.8156862745098039,\"rgb(245,162,122)\"],[0.8784313725490196,\"rgb(246,188,153)\"],[0.9411764705882353,\"rgb(247,212,187)\"],[1.0,\"rgb(250,234,220)\"]],\"type\":\"histogram2dcontour\"}],\"histogram2d\":[{\"colorbar\":{\"outlinewidth\":0,\"tickcolor\":\"rgb(36,36,36)\",\"ticklen\":8,\"ticks\":\"outside\",\"tickwidth\":2},\"colorscale\":[[0.0,\"rgb(2,4,25)\"],[0.06274509803921569,\"rgb(24,15,41)\"],[0.12549019607843137,\"rgb(47,23,57)\"],[0.18823529411764706,\"rgb(71,28,72)\"],[0.25098039215686274,\"rgb(97,30,82)\"],[0.3137254901960784,\"rgb(123,30,89)\"],[0.3764705882352941,\"rgb(150,27,91)\"],[0.4392156862745098,\"rgb(177,22,88)\"],[0.5019607843137255,\"rgb(203,26,79)\"],[0.5647058823529412,\"rgb(223,47,67)\"],[0.6274509803921569,\"rgb(236,76,61)\"],[0.6901960784313725,\"rgb(242,107,73)\"],[0.7529411764705882,\"rgb(244,135,95)\"],[0.8156862745098039,\"rgb(245,162,122)\"],[0.8784313725490196,\"rgb(246,188,153)\"],[0.9411764705882353,\"rgb(247,212,187)\"],[1.0,\"rgb(250,234,220)\"]],\"type\":\"histogram2d\"}],\"histogram\":[{\"marker\":{\"pattern\":{\"fillmode\":\"overlay\",\"size\":10,\"solidity\":0.2}},\"type\":\"histogram\"}],\"mesh3d\":[{\"colorbar\":{\"outlinewidth\":0,\"tickcolor\":\"rgb(36,36,36)\",\"ticklen\":8,\"ticks\":\"outside\",\"tickwidth\":2},\"type\":\"mesh3d\"}],\"parcoords\":[{\"line\":{\"colorbar\":{\"outlinewidth\":0,\"tickcolor\":\"rgb(36,36,36)\",\"ticklen\":8,\"ticks\":\"outside\",\"tickwidth\":2}},\"type\":\"parcoords\"}],\"pie\":[{\"automargin\":true,\"type\":\"pie\"}],\"scatter3d\":[{\"line\":{\"colorbar\":{\"outlinewidth\":0,\"tickcolor\":\"rgb(36,36,36)\",\"ticklen\":8,\"ticks\":\"outside\",\"tickwidth\":2}},\"marker\":{\"colorbar\":{\"outlinewidth\":0,\"tickcolor\":\"rgb(36,36,36)\",\"ticklen\":8,\"ticks\":\"outside\",\"tickwidth\":2}},\"type\":\"scatter3d\"}],\"scattercarpet\":[{\"marker\":{\"colorbar\":{\"outlinewidth\":0,\"tickcolor\":\"rgb(36,36,36)\",\"ticklen\":8,\"ticks\":\"outside\",\"tickwidth\":2}},\"type\":\"scattercarpet\"}],\"scattergeo\":[{\"marker\":{\"colorbar\":{\"outlinewidth\":0,\"tickcolor\":\"rgb(36,36,36)\",\"ticklen\":8,\"ticks\":\"outside\",\"tickwidth\":2}},\"type\":\"scattergeo\"}],\"scattergl\":[{\"marker\":{\"colorbar\":{\"outlinewidth\":0,\"tickcolor\":\"rgb(36,36,36)\",\"ticklen\":8,\"ticks\":\"outside\",\"tickwidth\":2}},\"type\":\"scattergl\"}],\"scattermapbox\":[{\"marker\":{\"colorbar\":{\"outlinewidth\":0,\"tickcolor\":\"rgb(36,36,36)\",\"ticklen\":8,\"ticks\":\"outside\",\"tickwidth\":2}},\"type\":\"scattermapbox\"}],\"scatterpolargl\":[{\"marker\":{\"colorbar\":{\"outlinewidth\":0,\"tickcolor\":\"rgb(36,36,36)\",\"ticklen\":8,\"ticks\":\"outside\",\"tickwidth\":2}},\"type\":\"scatterpolargl\"}],\"scatterpolar\":[{\"marker\":{\"colorbar\":{\"outlinewidth\":0,\"tickcolor\":\"rgb(36,36,36)\",\"ticklen\":8,\"ticks\":\"outside\",\"tickwidth\":2}},\"type\":\"scatterpolar\"}],\"scatter\":[{\"fillpattern\":{\"fillmode\":\"overlay\",\"size\":10,\"solidity\":0.2},\"type\":\"scatter\"}],\"scatterternary\":[{\"marker\":{\"colorbar\":{\"outlinewidth\":0,\"tickcolor\":\"rgb(36,36,36)\",\"ticklen\":8,\"ticks\":\"outside\",\"tickwidth\":2}},\"type\":\"scatterternary\"}],\"surface\":[{\"colorbar\":{\"outlinewidth\":0,\"tickcolor\":\"rgb(36,36,36)\",\"ticklen\":8,\"ticks\":\"outside\",\"tickwidth\":2},\"colorscale\":[[0.0,\"rgb(2,4,25)\"],[0.06274509803921569,\"rgb(24,15,41)\"],[0.12549019607843137,\"rgb(47,23,57)\"],[0.18823529411764706,\"rgb(71,28,72)\"],[0.25098039215686274,\"rgb(97,30,82)\"],[0.3137254901960784,\"rgb(123,30,89)\"],[0.3764705882352941,\"rgb(150,27,91)\"],[0.4392156862745098,\"rgb(177,22,88)\"],[0.5019607843137255,\"rgb(203,26,79)\"],[0.5647058823529412,\"rgb(223,47,67)\"],[0.6274509803921569,\"rgb(236,76,61)\"],[0.6901960784313725,\"rgb(242,107,73)\"],[0.7529411764705882,\"rgb(244,135,95)\"],[0.8156862745098039,\"rgb(245,162,122)\"],[0.8784313725490196,\"rgb(246,188,153)\"],[0.9411764705882353,\"rgb(247,212,187)\"],[1.0,\"rgb(250,234,220)\"]],\"type\":\"surface\"}],\"table\":[{\"cells\":{\"fill\":{\"color\":\"rgb(231,231,240)\"},\"line\":{\"color\":\"white\"}},\"header\":{\"fill\":{\"color\":\"rgb(183,183,191)\"},\"line\":{\"color\":\"white\"}},\"type\":\"table\"}]},\"layout\":{\"annotationdefaults\":{\"arrowcolor\":\"rgb(67,103,167)\"},\"autotypenumbers\":\"strict\",\"coloraxis\":{\"colorbar\":{\"outlinewidth\":0,\"tickcolor\":\"rgb(36,36,36)\",\"ticklen\":8,\"ticks\":\"outside\",\"tickwidth\":2}},\"colorscale\":{\"sequential\":[[0.0,\"rgb(2,4,25)\"],[0.06274509803921569,\"rgb(24,15,41)\"],[0.12549019607843137,\"rgb(47,23,57)\"],[0.18823529411764706,\"rgb(71,28,72)\"],[0.25098039215686274,\"rgb(97,30,82)\"],[0.3137254901960784,\"rgb(123,30,89)\"],[0.3764705882352941,\"rgb(150,27,91)\"],[0.4392156862745098,\"rgb(177,22,88)\"],[0.5019607843137255,\"rgb(203,26,79)\"],[0.5647058823529412,\"rgb(223,47,67)\"],[0.6274509803921569,\"rgb(236,76,61)\"],[0.6901960784313725,\"rgb(242,107,73)\"],[0.7529411764705882,\"rgb(244,135,95)\"],[0.8156862745098039,\"rgb(245,162,122)\"],[0.8784313725490196,\"rgb(246,188,153)\"],[0.9411764705882353,\"rgb(247,212,187)\"],[1.0,\"rgb(250,234,220)\"]],\"sequentialminus\":[[0.0,\"rgb(2,4,25)\"],[0.06274509803921569,\"rgb(24,15,41)\"],[0.12549019607843137,\"rgb(47,23,57)\"],[0.18823529411764706,\"rgb(71,28,72)\"],[0.25098039215686274,\"rgb(97,30,82)\"],[0.3137254901960784,\"rgb(123,30,89)\"],[0.3764705882352941,\"rgb(150,27,91)\"],[0.4392156862745098,\"rgb(177,22,88)\"],[0.5019607843137255,\"rgb(203,26,79)\"],[0.5647058823529412,\"rgb(223,47,67)\"],[0.6274509803921569,\"rgb(236,76,61)\"],[0.6901960784313725,\"rgb(242,107,73)\"],[0.7529411764705882,\"rgb(244,135,95)\"],[0.8156862745098039,\"rgb(245,162,122)\"],[0.8784313725490196,\"rgb(246,188,153)\"],[0.9411764705882353,\"rgb(247,212,187)\"],[1.0,\"rgb(250,234,220)\"]]},\"colorway\":[\"rgb(76,114,176)\",\"rgb(221,132,82)\",\"rgb(85,168,104)\",\"rgb(196,78,82)\",\"rgb(129,114,179)\",\"rgb(147,120,96)\",\"rgb(218,139,195)\",\"rgb(140,140,140)\",\"rgb(204,185,116)\",\"rgb(100,181,205)\"],\"font\":{\"color\":\"rgb(36,36,36)\"},\"geo\":{\"bgcolor\":\"white\",\"lakecolor\":\"white\",\"landcolor\":\"rgb(234,234,242)\",\"showlakes\":true,\"showland\":true,\"subunitcolor\":\"white\"},\"hoverlabel\":{\"align\":\"left\"},\"hovermode\":\"closest\",\"paper_bgcolor\":\"white\",\"plot_bgcolor\":\"rgb(234,234,242)\",\"polar\":{\"angularaxis\":{\"gridcolor\":\"white\",\"linecolor\":\"white\",\"showgrid\":true,\"ticks\":\"\"},\"bgcolor\":\"rgb(234,234,242)\",\"radialaxis\":{\"gridcolor\":\"white\",\"linecolor\":\"white\",\"showgrid\":true,\"ticks\":\"\"}},\"scene\":{\"xaxis\":{\"backgroundcolor\":\"rgb(234,234,242)\",\"gridcolor\":\"white\",\"gridwidth\":2,\"linecolor\":\"white\",\"showbackground\":true,\"showgrid\":true,\"ticks\":\"\",\"zerolinecolor\":\"white\"},\"yaxis\":{\"backgroundcolor\":\"rgb(234,234,242)\",\"gridcolor\":\"white\",\"gridwidth\":2,\"linecolor\":\"white\",\"showbackground\":true,\"showgrid\":true,\"ticks\":\"\",\"zerolinecolor\":\"white\"},\"zaxis\":{\"backgroundcolor\":\"rgb(234,234,242)\",\"gridcolor\":\"white\",\"gridwidth\":2,\"linecolor\":\"white\",\"showbackground\":true,\"showgrid\":true,\"ticks\":\"\",\"zerolinecolor\":\"white\"}},\"shapedefaults\":{\"fillcolor\":\"rgb(67,103,167)\",\"line\":{\"width\":0},\"opacity\":0.5},\"ternary\":{\"aaxis\":{\"gridcolor\":\"white\",\"linecolor\":\"white\",\"showgrid\":true,\"ticks\":\"\"},\"baxis\":{\"gridcolor\":\"white\",\"linecolor\":\"white\",\"showgrid\":true,\"ticks\":\"\"},\"bgcolor\":\"rgb(234,234,242)\",\"caxis\":{\"gridcolor\":\"white\",\"linecolor\":\"white\",\"showgrid\":true,\"ticks\":\"\"}},\"xaxis\":{\"automargin\":true,\"gridcolor\":\"white\",\"linecolor\":\"white\",\"showgrid\":true,\"ticks\":\"\",\"title\":{\"standoff\":15},\"zerolinecolor\":\"white\"},\"yaxis\":{\"automargin\":true,\"gridcolor\":\"white\",\"linecolor\":\"white\",\"showgrid\":true,\"ticks\":\"\",\"title\":{\"standoff\":15},\"zerolinecolor\":\"white\"}}},\"title\":{\"text\":\"r\\\\electronics\",\"x\":0.5},\"xaxis\":{\"title\":{\"text\":\"#Week\"}},\"yaxis\":{\"title\":{\"text\":\"#Subscribers\"}},\"paper_bgcolor\":\"rgba(0,0,0,0)\",\"width\":1200,\"height\":600},                        {\"responsive\": true}                    ).then(function(){\n",
       "                            \n",
       "var gd = document.getElementById('4745c37b-49a5-4d06-9f3b-0e4218eaf712');\n",
       "var x = new MutationObserver(function (mutations, observer) {{\n",
       "        var display = window.getComputedStyle(gd).display;\n",
       "        if (!display || display === 'none') {{\n",
       "            console.log([gd, 'removed!']);\n",
       "            Plotly.purge(gd);\n",
       "            observer.disconnect();\n",
       "        }}\n",
       "}});\n",
       "\n",
       "// Listen for the removal of the full notebook cells\n",
       "var notebookContainer = gd.closest('#notebook-container');\n",
       "if (notebookContainer) {{\n",
       "    x.observe(notebookContainer, {childList: true});\n",
       "}}\n",
       "\n",
       "// Listen for the clearing of the current output cell\n",
       "var outputEl = gd.closest('.output');\n",
       "if (outputEl) {{\n",
       "    x.observe(outputEl, {childList: true});\n",
       "}}\n",
       "\n",
       "                        })                };                });            </script>        </div>"
      ]
     },
     "metadata": {},
     "output_type": "display_data"
    }
   ],
   "source": [
    "\n",
    "# Create a figure with multiple lines\n",
    "fig = go.Figure()\n",
    "for x_week, y_subscribers, label in ([real_weeks, real_subscribers, 'real'], [predict_weeks, predict_subscribers, 'predict']):\n",
    "    fig.add_trace(go.Scatter(x=x_week, y=y_subscribers,\n",
    "                    mode='lines',\n",
    "                    name=label)\n",
    "                 )\n",
    "    \n",
    "# Update the layout\n",
    "fig.update_layout(title='r\\\\{}'.format(subreddit_name), xaxis_title='#Week', yaxis_title='#Subscribers', title_x = 0.5)\n",
    "fig.update_layout(template='seaborn', paper_bgcolor='rgba(0,0,0,0)')\n",
    "fig.update_layout(width=1200, height=600)\n",
    "fig.write_image('{}/{}'.format('output', 'gaming_predicted.png'))\n",
    "# Show the plot\n",
    "fig.show()"
   ]
  }
 ],
 "metadata": {
  "kernelspec": {
   "display_name": "BigDataAnalysisProject",
   "language": "python",
   "name": "bigdataanalysisproject"
  },
  "language_info": {
   "codemirror_mode": {
    "name": "ipython",
    "version": 3
   },
   "file_extension": ".py",
   "mimetype": "text/x-python",
   "name": "python",
   "nbconvert_exporter": "python",
   "pygments_lexer": "ipython3",
   "version": "3.9.17"
  }
 },
 "nbformat": 4,
 "nbformat_minor": 5
}
